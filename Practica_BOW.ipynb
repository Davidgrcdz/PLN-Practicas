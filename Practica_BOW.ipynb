{
 "cells": [
  {
   "cell_type": "markdown",
   "metadata": {},
   "source": [
    "# Práctica 1: Bag of Words (BOW)\n",
    "\n",
    "#### Integrantes: Alejandro Bolaños García y David García Díaz"
   ]
  },
  {
   "cell_type": "markdown",
   "metadata": {},
   "source": [
    "### Lectura de datos\n",
    "Se leen los distintos documentos, cuyos contenidos son almacenados en una lista $ (docx\\_content) $ en la que cada elemento de la lista se trata del texto de cada documento, con lo cual se tendrán tantos elementos como documentos a leer existan."
   ]
  },
  {
   "cell_type": "code",
   "execution_count": 17,
   "metadata": {},
   "outputs": [
    {
     "data": {
      "text/plain": [
       "['Nuevo smartphone de alta gama promete revolucionar el mercado  Hoy se anunció el lanzamiento del último smartphone de la reconocida marca Tecnophone. Este nuevo dispositivo, denominado Tecnophone XZ, promete características sobresalientes que seguramente causarán revuelo en la industria móvil. Incorpora una pantalla OLED de 6.7 pulgadas, un procesador de última generación y una memoria RAM de 12 GB. Además, para los amantes de la fotografía, el Tecnophone XZ posee una cámara triple con una resolución de 108 megapíxeles. Los expertos ya lo han calificado como el \"móvil del año\" y esperan ver su impacto en el mercado en los próximos meses. ',\n",
       " 'La duración de la batería en smartphones: un desafío constante  La vida útil de la batería se ha convertido en uno de los temas más discutidos en el mundo de los smartphones. Con la constante demanda de aplicaciones y servicios que consumen grandes cantidades de energía, los fabricantes están bajo presión para ofrecer soluciones innovadoras. Recientemente, el fabricante MobiTech anunció una tecnología de batería avanzada que, según afirman, puede durar hasta tres días con un uso moderado. Si esta promesa se cumple, podría marcar un antes y un después en la experiencia del usuario móvil. ',\n",
       " 'Las aplicaciones móviles más descargadas del mes  El auge de las aplicaciones móviles continúa creciendo a pasos agigantados. Este mes, la aplicación de edición de video ClipMaster ha liderado las listas de descargas, seguida de cerca por la app de fitness FitJourney. Ambas aplicaciones demuestran el interés creciente de los usuarios por herramientas que les permitan mejorar su calidad de vida y expresarse creativamente. Con millones de apps disponibles, es evidente que los móviles se han convertido en herramientas esenciales para la vida cotidiana. ',\n",
       " 'El futuro de los coches eléctricos brilla más que nunca  Las calles de nuestras ciudades están experimentando un cambio. Los coches eléctricos, una vez considerados un lujo, ahora están más presentes que nunca. Esta semana, la marca AutoVolt presentó su último modelo, el E-Power 4000, que promete una autonomía de 500 kilómetros con una sola carga. Además, este vehículo es totalmente ecológico, produciendo cero emisiones. Las estaciones de carga también están aumentando en número, haciendo que la transición al eléctrico sea más fácil para todos. ',\n",
       " 'Subvenciones estatales impulsan la adopción de vehículos eléctricos  El gobierno ha anunciado un nuevo paquete de subvenciones para aquellos que decidan comprar un coche eléctrico. Esta medida busca reducir la contaminación y fomentar una movilidad más sostenible. Con la nueva subvención, los compradores podrán beneficiarse de hasta un 25% de descuento en la adquisición de su nuevo vehículo eléctrico. Las empresas automotrices celebran la decisión y esperan un aumento en las ventas en los próximos trimestres. ',\n",
       " 'Las pantallas plegables: la nueva tendencia en smartphones  El mundo de la tecnología móvil nunca deja de sorprender. La marca líder CellFlex ha presentado su nuevo modelo FlexPhone Ultra, que cuenta con una innovadora pantalla plegable. Este diseño permite a los usuarios disfrutar de un dispositivo compacto que, al desplegarse, ofrece una pantalla del tamaño de una tablet. Las críticas iniciales elogian la calidad de la pantalla y la versatilidad que este diseño aporta, prediciendo que otros fabricantes seguirán esta tendencia. ',\n",
       " 'La realidad aumentada transforma la experiencia móvil  Con la tecnología de realidad aumentada (AR) cada vez más avanzada, los dispositivos móviles ofrecen experiencias nunca antes vistas. La app ARWorld, lanzada recientemente, permite a los usuarios visualizar muebles en sus propios hogares antes de comprarlos, o incluso probarse ropa virtualmente. Las posibilidades son infinitas y los desarrolladores de apps están trabajando arduamente para aprovechar el potencial de AR en el mundo móvil. ',\n",
       " 'EcoDrive: el coche eléctrico económico para todos  La revolución eléctrica no se detiene. La compañía automovilística EcoMovers ha lanzado su modelo EcoDrive, un vehículo eléctrico pensado para ser asequible para el gran público. Con una autonomía respetable de 350 kilómetros y un precio competitivo, EcoDrive busca ser la opción ideal para aquellos que desean dar el salto al mundo eléctrico sin vaciar sus bolsillos. Las reservas ya están disponibles y se espera una alta demanda. ',\n",
       " 'Los supercargadores: carga rápida para coches eléctricos  Uno de los mayores desafíos de los vehículos eléctricos ha sido el tiempo de carga. Sin embargo, la empresa PowerCharge ha anunciado una nueva red de supercargadores capaces de cargar un coche eléctrico en solo 20 minutos. Estos supercargadores serán instalados en estaciones de servicio y centros comerciales, permitiendo a los conductores recargar sus vehículos en el tiempo que les lleva tomar un café. Es un paso más hacia la adopción masiva de la movilidad eléctrica. ',\n",
       " 'La seguridad móvil: en la mira de los expertos  Con el aumento del uso de smartphones para tareas como banca en línea y compras, la seguridad se ha convertido en una prioridad. La empresa SecureMobile ha lanzado una nueva suite de herramientas de seguridad que prometen mantener a salvo la información personal y financiera de los usuarios. Esta aplicación utiliza encriptación de grado militar y autenticación de dos factores para garantizar que los datos del usuario estén protegidos de posibles amenazas. ',\n",
       " 'Integración avanzada de smartphones en vehículos eléctricos: El futuro de la conducción conectada  El mundo de la automoción y la tecnología móvil están convergiendo rápidamente. Recientemente, la firma automovilística ElectroCar y el gigante de la telefonía móvil SmartTech han anunciado una colaboración sin precedentes. El próximo modelo de ElectroCar, el E-Fusion 360, ofrecerá una integración total con el smartphone GalaxyX de SmartTech. Los conductores podrán controlar diversas funciones del vehículo, desde la climatización hasta la navegación, directamente desde su teléfono móvil. Además, el coche incluirá un panel de carga inalámbrica para el dispositivo y ofrecerá actualizaciones en tiempo real sobre el estado de la batería y otros sistemas del vehículo. Este anuncio marca un hito en la integración entre la movilidad eléctrica y la conectividad móvil, prometiendo una experiencia de conducción más fluida y tecnológicamente avanzada. ',\n",
       " 'App móvil revoluciona la carga de vehículos eléctricos en la ciudad  La carga de coches eléctricos en áreas urbanas puede ser un desafío debido a la disponibilidad y distribución de puntos de carga. Sin embargo, la nueva aplicación móvil ChargeOnGo promete cambiar esto. Esta app, compatible con todos los smartphones, permite a los usuarios localizar estaciones de carga cercanas, reservar un punto específico y realizar pagos sin contacto. Además, la función de \"carga inteligente\" de la app sugiere a los conductores los momentos más económicos para cargar basándose en tarifas eléctricas dinámicas. Por si fuera poco, ChargeOnGo también ofrece integración con sistemas de navegación en vehículos, permitiendo a los conductores planificar rutas que incluyan paradas estratégicas en puntos de carga. Esta innovación es una muestra más de cómo la tecnología móvil está facilitando y mejorando la experiencia de conducción eléctrica en la ciudad. ']"
      ]
     },
     "execution_count": 17,
     "metadata": {},
     "output_type": "execute_result"
    }
   ],
   "source": [
    "import os\n",
    "from docx import Document\n",
    "\n",
    "docs = \"docs\"\n",
    "\n",
    "def read_docx(directory_path):\n",
    "    \n",
    "    docx_files = []\n",
    "\n",
    "    all_files = os.listdir(directory_path)\n",
    "    \n",
    "    for file in all_files:\n",
    "        if file.endswith('.docx'):\n",
    "            docx_files.append(file)\n",
    "    \n",
    "    docx_contents = []\n",
    "    \n",
    "    for file in docx_files:\n",
    "        file_path = os.path.join(directory_path, file)\n",
    "        try:\n",
    "            doc = Document(file_path)\n",
    "            content = ' '.join([para.text for para in doc.paragraphs])\n",
    "            \n",
    "            docx_contents.append(content)\n",
    "        except Exception as e:\n",
    "            docx_contents[file] = f\"Error reading file: {e}\"\n",
    "    \n",
    "    return docx_contents\n",
    "\n",
    "read_docx(docs)\n",
    "\n",
    "\n"
   ]
  },
  {
   "cell_type": "markdown",
   "metadata": {},
   "source": [
    "### Preprocesamiento de los textos\n",
    "Los textos de la lista mencionada anteriormente se procesan tranformando las palabras a minúsculas, eliminando los $\"stop\\ words\"$ y filtrando los signos de puntuación del texto; dicho de otra forma hemos tokenizado el contenido de los documentos."
   ]
  },
  {
   "cell_type": "code",
   "execution_count": 18,
   "metadata": {},
   "outputs": [
    {
     "name": "stdout",
     "output_type": "stream",
     "text": [
      "[['nuevo', 'smartphone', 'alta', 'gama', 'promete', 'revolucionar', 'mercado', 'hoy', 'anunció', 'lanzamiento', 'último', 'smartphone', 'reconocida', 'marca', 'tecnophone', 'nuevo', 'dispositivo', 'denominado', 'tecnophone', 'xz', 'promete', 'características', 'sobresalientes', 'seguramente', 'causarán', 'revuelo', 'industria', 'móvil', 'incorpora', 'pantalla', 'oled', '6.7', 'pulgadas', 'procesador', 'última', 'generación', 'memoria', 'ram', '12', 'gb', 'además', 'amantes', 'fotografía', 'tecnophone', 'xz', 'posee', 'cámara', 'triple', 'resolución', '108', 'megapíxeles', 'expertos', 'calificado', 'móvil', 'año', 'esperan', 'ver', 'impacto', 'mercado', 'próximos', 'meses'], ['duración', 'batería', 'smartphones', 'desafío', 'constante', 'vida', 'útil', 'batería', 'convertido', 'temas', 'discutidos', 'mundo', 'smartphones', 'constante', 'demanda', 'aplicaciones', 'servicios', 'consumen', 'grandes', 'cantidades', 'energía', 'fabricantes', 'bajo', 'presión', 'ofrecer', 'soluciones', 'innovadoras', 'recientemente', 'fabricante', 'mobitech', 'anunció', 'tecnología', 'batería', 'avanzada', 'según', 'afirman', 'puede', 'durar', 'tres', 'días', 'uso', 'moderado', 'si', 'promesa', 'cumple', 'podría', 'marcar', 'después', 'experiencia', 'usuario', 'móvil'], ['aplicaciones', 'móviles', 'descargadas', 'mes', 'auge', 'aplicaciones', 'móviles', 'continúa', 'creciendo', 'pasos', 'agigantados', 'mes', 'aplicación', 'edición', 'video', 'clipmaster', 'liderado', 'listas', 'descargas', 'seguida', 'cerca', 'app', 'fitness', 'fitjourney', 'ambas', 'aplicaciones', 'demuestran', 'interés', 'creciente', 'usuarios', 'herramientas', 'permitan', 'mejorar', 'calidad', 'vida', 'expresarse', 'creativamente', 'millones', 'apps', 'disponibles', 'evidente', 'móviles', 'convertido', 'herramientas', 'esenciales', 'vida', 'cotidiana'], ['futuro', 'coches', 'eléctricos', 'brilla', 'nunca', 'calles', 'ciudades', 'experimentando', 'cambio', 'coches', 'eléctricos', 'vez', 'considerados', 'lujo', 'ahora', 'presentes', 'nunca', 'semana', 'marca', 'autovolt', 'presentó', 'último', 'modelo', 'e-power', '4000', 'promete', 'autonomía', '500', 'kilómetros', 'sola', 'carga', 'además', 'vehículo', 'totalmente', 'ecológico', 'produciendo', 'cero', 'emisiones', 'estaciones', 'carga', 'aumentando', 'número', 'haciendo', 'transición', 'eléctrico', 'fácil'], ['subvenciones', 'estatales', 'impulsan', 'adopción', 'vehículos', 'eléctricos', 'gobierno', 'anunciado', 'nuevo', 'paquete', 'subvenciones', 'aquellos', 'decidan', 'comprar', 'coche', 'eléctrico', 'medida', 'busca', 'reducir', 'contaminación', 'fomentar', 'movilidad', 'sostenible', 'nueva', 'subvención', 'compradores', 'podrán', 'beneficiarse', '25', 'descuento', 'adquisición', 'nuevo', 'vehículo', 'eléctrico', 'empresas', 'automotrices', 'celebran', 'decisión', 'esperan', 'aumento', 'ventas', 'próximos', 'trimestres'], ['pantallas', 'plegables', 'nueva', 'tendencia', 'smartphones', 'mundo', 'tecnología', 'móvil', 'nunca', 'deja', 'sorprender', 'marca', 'líder', 'cellflex', 'presentado', 'nuevo', 'modelo', 'flexphone', 'ultra', 'cuenta', 'innovadora', 'pantalla', 'plegable', 'diseño', 'permite', 'usuarios', 'disfrutar', 'dispositivo', 'compacto', 'desplegarse', 'ofrece', 'pantalla', 'tamaño', 'tablet', 'críticas', 'iniciales', 'elogian', 'calidad', 'pantalla', 'versatilidad', 'diseño', 'aporta', 'prediciendo', 'fabricantes', 'seguirán', 'tendencia'], ['realidad', 'aumentada', 'transforma', 'experiencia', 'móvil', 'tecnología', 'realidad', 'aumentada', 'ar', 'cada', 'vez', 'avanzada', 'dispositivos', 'móviles', 'ofrecen', 'experiencias', 'nunca', 'vistas', 'app', 'arworld', 'lanzada', 'recientemente', 'permite', 'usuarios', 'visualizar', 'muebles', 'propios', 'hogares', 'comprarlos', 'incluso', 'probarse', 'ropa', 'virtualmente', 'posibilidades', 'infinitas', 'desarrolladores', 'apps', 'trabajando', 'arduamente', 'aprovechar', 'potencial', 'ar', 'mundo', 'móvil'], ['ecodrive', 'coche', 'eléctrico', 'económico', 'revolución', 'eléctrica', 'detiene', 'compañía', 'automovilística', 'ecomovers', 'lanzado', 'modelo', 'ecodrive', 'vehículo', 'eléctrico', 'pensado', 'ser', 'asequible', 'gran', 'público', 'autonomía', 'respetable', '350', 'kilómetros', 'precio', 'competitivo', 'ecodrive', 'busca', 'ser', 'opción', 'ideal', 'aquellos', 'desean', 'dar', 'salto', 'mundo', 'eléctrico', 'vaciar', 'bolsillos', 'reservas', 'disponibles', 'espera', 'alta', 'demanda'], ['supercargadores', 'carga', 'rápida', 'coches', 'eléctricos', 'mayores', 'desafíos', 'vehículos', 'eléctricos', 'sido', 'tiempo', 'carga', 'embargo', 'empresa', 'powercharge', 'anunciado', 'nueva', 'red', 'supercargadores', 'capaces', 'cargar', 'coche', 'eléctrico', 'solo', '20', 'minutos', 'supercargadores', 'instalados', 'estaciones', 'servicio', 'centros', 'comerciales', 'permitiendo', 'conductores', 'recargar', 'vehículos', 'tiempo', 'lleva', 'tomar', 'café', 'paso', 'hacia', 'adopción', 'masiva', 'movilidad', 'eléctrica'], ['seguridad', 'móvil', 'mira', 'expertos', 'aumento', 'uso', 'smartphones', 'tareas', 'banca', 'línea', 'compras', 'seguridad', 'convertido', 'prioridad', 'empresa', 'securemobile', 'lanzado', 'nueva', 'suite', 'herramientas', 'seguridad', 'prometen', 'mantener', 'salvo', 'información', 'personal', 'financiera', 'usuarios', 'aplicación', 'utiliza', 'encriptación', 'grado', 'militar', 'autenticación', 'dos', 'factores', 'garantizar', 'datos', 'usuario', 'protegidos', 'posibles', 'amenazas'], ['integración', 'avanzada', 'smartphones', 'vehículos', 'eléctricos', 'futuro', 'conducción', 'conectada', 'mundo', 'automoción', 'tecnología', 'móvil', 'convergiendo', 'rápidamente', 'recientemente', 'firma', 'automovilística', 'electrocar', 'gigante', 'telefonía', 'móvil', 'smarttech', 'anunciado', 'colaboración', 'precedentes', 'próximo', 'modelo', 'electrocar', 'e-fusion', '360', 'ofrecerá', 'integración', 'total', 'smartphone', 'galaxyx', 'smarttech', 'conductores', 'podrán', 'controlar', 'diversas', 'funciones', 'vehículo', 'climatización', 'navegación', 'directamente', 'teléfono', 'móvil', 'además', 'coche', 'incluirá', 'panel', 'carga', 'inalámbrica', 'dispositivo', 'ofrecerá', 'actualizaciones', 'tiempo', 'real', 'batería', 'sistemas', 'vehículo', 'anuncio', 'marca', 'hito', 'integración', 'movilidad', 'eléctrica', 'conectividad', 'móvil', 'prometiendo', 'experiencia', 'conducción', 'fluida', 'tecnológicamente', 'avanzada'], ['app', 'móvil', 'revoluciona', 'carga', 'vehículos', 'eléctricos', 'ciudad', 'carga', 'coches', 'eléctricos', 'áreas', 'urbanas', 'puede', 'ser', 'desafío', 'debido', 'disponibilidad', 'distribución', 'puntos', 'carga', 'embargo', 'nueva', 'aplicación', 'móvil', 'chargeongo', 'promete', 'cambiar', 'app', 'compatible', 'smartphones', 'permite', 'usuarios', 'localizar', 'estaciones', 'carga', 'cercanas', 'reservar', 'punto', 'específico', 'realizar', 'pagos', 'contacto', 'además', 'función', 'carga', 'inteligente', 'app', 'sugiere', 'conductores', 'momentos', 'económicos', 'cargar', 'basándose', 'tarifas', 'eléctricas', 'dinámicas', 'si', 'chargeongo', 'ofrece', 'integración', 'sistemas', 'navegación', 'vehículos', 'permitiendo', 'conductores', 'planificar', 'rutas', 'incluyan', 'paradas', 'estratégicas', 'puntos', 'carga', 'innovación', 'muestra', 'cómo', 'tecnología', 'móvil', 'facilitando', 'mejorando', 'experiencia', 'conducción', 'eléctrica', 'ciudad']]\n"
     ]
    }
   ],
   "source": [
    "from nltk.corpus import stopwords\n",
    "from nltk.tokenize import word_tokenize\n",
    "\n",
    "\n",
    "def preprocess_text(text):\n",
    "\n",
    "    puntucaction = '!\"\\#$%&\\'\\'()*+,-./:;<=>?@[\\]^_``{|}~¿¡'\n",
    "    text = text.lower()\n",
    "\n",
    "    words = word_tokenize(text)\n",
    "    words_clean = [word for word in words if word not in puntucaction]\n",
    "\n",
    "    stop_words = set(stopwords.words('spanish'))\n",
    "    filtered_words = [word for word in words_clean if word not in stop_words]\n",
    "    \n",
    "    return filtered_words\n",
    "\n",
    "tokenized_text = []\n",
    "\n",
    "for text in read_docx(docs):\n",
    "    tokenized_text.append(preprocess_text(text))\n",
    "    \n",
    "print(tokenized_text)"
   ]
  },
  {
   "cell_type": "markdown",
   "metadata": {},
   "source": [
    "### Creación del vocabulario y los Bags of Words \n",
    "Una vez se tiene el texto tokenizado, creamos nuestro vocabulario de palabras únicas para así representar los textos como vectores dentro del espacio de nuestro vocabulario, en el que cada elemento del vector resultante de cada documento corresponde con el número de aparaciones de una palabra del vocabulario en dicho documento. "
   ]
  },
  {
   "cell_type": "code",
   "execution_count": 19,
   "metadata": {},
   "outputs": [
    {
     "name": "stdout",
     "output_type": "stream",
     "text": [
      "Cantidad de palabras en el vocabulario: 420\n",
      "Longitud de vector: 420\n"
     ]
    }
   ],
   "source": [
    "vocabulario_set = set()\n",
    "\n",
    "for text in tokenized_text:\n",
    "    for word in text:\n",
    "        vocabulario_set.add(word)\n",
    "\n",
    "vocabulario = list(vocabulario_set)\n",
    "print(\"Cantidad de palabras en el vocabulario:\", len(vocabulario))\n",
    "\n",
    "bag_of_words = []\n",
    "\n",
    "for text in tokenized_text:\n",
    "    doc_vector = []\n",
    "    for word in vocabulario:\n",
    "        count = text.count(word)\n",
    "        doc_vector.append(count)\n",
    "    bag_of_words.append(doc_vector)\n",
    "\n",
    "print(\"Longitud de vector:\", len(bag_of_words[0]))\n"
   ]
  },
  {
   "cell_type": "markdown",
   "metadata": {},
   "source": [
    "### Visualización de los Bags of Words"
   ]
  },
  {
   "cell_type": "code",
   "execution_count": 20,
   "metadata": {},
   "outputs": [
    {
     "name": "stdout",
     "output_type": "stream",
     "text": [
      "Vocabulario: ['causarán', '12', 'ideal', 'contaminación', 'cumple', 'conducción', 'suite', 'ofrecer', 'muebles', 'consumen', 'trimestres', 'presentado', 'energía', 'experimentando', 'seguridad', 'listas', 'kilómetros', 'automoción', 'cada', 'teléfono', 'reservar', 'ciudad', 'tecnología', 'oled', 'ver', 'powercharge', 'masiva', 'expertos', 'cero', 'directamente', 'función', 'bolsillos', 'realidad', 'smartphone', 'tecnológicamente', 'pasos', 'ambas', 'servicio', 'brilla', 'aumentada', 'seguida', 'agigantados', 'útil', 'propios', 'amantes', 'futuro', 'industria', 'revolución', 'nueva', 'aplicación', 'eléctrica', 'conductores', 'disponibilidad', 'última', 'pagos', 'mira', 'triple', 'megapíxeles', 'flexphone', 'compras', 'tres', 'aumentando', 'presentes', 'hoy', 'securemobile', 'específico', 'ecológico', 'esenciales', 'vez', '500', 'apps', 'compradores', 'sido', 'iniciales', 'recientemente', 'tareas', 'hogares', 'infinitas', 'características', 'recargar', 'presentó', 'banca', 'urbanas', 'fabricante', 'precio', 'desafío', 'rutas', 'demanda', 'beneficiarse', 'experiencias', 'temas', 'cambio', 'año', 'asequible', 'prometen', 'paradas', 'colaboración', 'permite', 'público', 'auge', 'plegable', 'ofrecerá', 'expresarse', 'diseño', 'mobitech', 'nunca', 'interés', 'trabajando', 'calidad', 'vida', 'nuevo', 'busca', 'sobresalientes', 'datos', 'tiempo', 'salto', 'tomar', 'espera', 'celebran', 'estatales', 'smarttech', 'puede', 'usuarios', 'garantizar', 'lanzado', 'prometiendo', 'sistemas', 'estaciones', 'posee', 'tendencia', 'total', 'además', 'meses', 'innovadora', '108', 'inteligente', 'días', 'comerciales', 'podrán', 'ofrecen', 'app', 'tablet', 'fotografía', 'compatible', 'automovilística', 'conectada', 'fitjourney', 'arworld', 'basándose', 'grado', 'autenticación', 'dinámicas', 'evidente', 'constante', 'navegación', 'posibles', 'ar', 'marca', 'fabricantes', 'compacto', 'rápida', 'pensado', 'compañía', 'financiera', 'militar', 'cargar', 'pantallas', 'reconocida', 'incluyan', 'mercado', 'subvenciones', 'estratégicas', 'controlar', 'uso', 'adopción', 'ofrece', 'arduamente', 'incluirá', 'conectividad', 'paso', 'decidan', 'generación', 'cerca', 'calificado', 'modelo', 'batería', 'contacto', 'procesador', 'centros', 'permitiendo', 'creciendo', 'experiencia', 'fluida', 'ventas', 'descuento', 'hacia', 'gobierno', 'rápidamente', 'muestra', 'clipmaster', 'línea', 'grandes', 'detiene', 'medida', 'autonomía', 'transforma', 'empresas', 'impacto', 'panel', 'planificar', 'lanzada', 'aporta', 'continúa', 'último', 'eléctrico', 'subvención', 'minutos', 'lleva', 'críticas', 'innovación', 'reducir', 'calles', 'plegables', 'e-fusion', 'localizar', 'cámara', 'pantalla', 'económico', 'empresa', 'lanzamiento', 'cantidades', 'según', 'económicos', 'emisiones', 'seguirán', 'disponibles', 'semana', 'funciones', 'usuario', 'moderado', 'descargas', 'totalmente', 'capaces', 'memoria', 'elogian', 'cellflex', 'respetable', 'telefonía', 'esperan', 'próximo', 'denominado', 'herramientas', 'marcar', 'disfrutar', 'presión', 'desplegarse', 'versatilidad', 'utiliza', 'promesa', 'aprovechar', 'desafíos', 'encriptación', 'red', 'supercargadores', 'dos', '350', 'anuncio', 'paquete', 'eléctricas', 'ultra', 'anunciado', 'vehículo', 'integración', 'si', 'convertido', 'salvo', 'liderado', 'eléctricos', 'resolución', 'creciente', 'virtualmente', 'instalados', 'mes', 'mejorar', 'hito', 'firma', 'considerados', 'cotidiana', 'permitan', 'protegidos', 'xz', 'ram', 'mejorando', 'café', 'inalámbrica', 'incluso', '25', 'competitivo', 'ahora', 'avanzada', 'móvil', 'mayores', '6.7', 'tecnophone', 'durar', 'promete', 'demuestran', 'revoluciona', 'móviles', 'diversas', 'convergiendo', 'comprarlos', 'vehículos', 'movilidad', 'creativamente', 'galaxyx', 'podría', 'sugiere', 'dar', 'ecomovers', 'actualizaciones', 'aumento', 'embargo', 'posibilidades', 'electrocar', 'video', 'e-power', 'adquisición', 'incorpora', 'áreas', 'aplicaciones', 'potencial', 'carga', 'seguramente', 'servicios', 'ropa', 'fitness', 'automotrices', 'lujo', 'real', 'información', 'punto', 'líder', 'visualizar', '360', 'soluciones', 'mantener', 'desarrolladores', 'después', 'millones', '20', 'bajo', 'alta', 'sola', 'amenazas', 'mundo', 'sorprender', 'dispositivo', 'opción', 'afirman', 'fácil', 'comprar', 'debido', 'desean', 'climatización', 'decisión', 'personal', 'ciudades', 'distribución', 'tarifas', 'pulgadas', 'edición', 'cuenta', 'cambiar', 'ecodrive', 'fomentar', 'innovadoras', 'prediciendo', 'transición', 'gigante', 'probarse', 'revolucionar', 'discutidos', 'vaciar', 'prioridad', 'cercanas', 'gb', 'cómo', 'precedentes', 'impulsan', 'reservas', 'gama', 'aquellos', 'facilitando', 'solo', 'coches', 'vistas', 'próximos', 'autovolt', 'duración', 'tamaño', 'realizar', 'puntos', 'produciendo', 'smartphones', 'número', 'gran', 'revuelo', 'descargadas', 'ser', 'anunció', 'factores', 'chargeongo', 'coche', 'haciendo', '4000', 'deja', 'momentos', 'sostenible', 'dispositivos']\n",
      "Texto original: ['nuevo', 'smartphone', 'alta', 'gama', 'promete', 'revolucionar', 'mercado', 'hoy', 'anunció', 'lanzamiento', 'último', 'smartphone', 'reconocida', 'marca', 'tecnophone', 'nuevo', 'dispositivo', 'denominado', 'tecnophone', 'xz', 'promete', 'características', 'sobresalientes', 'seguramente', 'causarán', 'revuelo', 'industria', 'móvil', 'incorpora', 'pantalla', 'oled', '6.7', 'pulgadas', 'procesador', 'última', 'generación', 'memoria', 'ram', '12', 'gb', 'además', 'amantes', 'fotografía', 'tecnophone', 'xz', 'posee', 'cámara', 'triple', 'resolución', '108', 'megapíxeles', 'expertos', 'calificado', 'móvil', 'año', 'esperan', 'ver', 'impacto', 'mercado', 'próximos', 'meses']\n",
      "Vectorizado: [1, 1, 0, 0, 0, 0, 0, 0, 0, 0, 0, 0, 0, 0, 0, 0, 0, 0, 0, 0, 0, 0, 0, 1, 1, 0, 0, 1, 0, 0, 0, 0, 0, 2, 0, 0, 0, 0, 0, 0, 0, 0, 0, 0, 1, 0, 1, 0, 0, 0, 0, 0, 0, 1, 0, 0, 1, 1, 0, 0, 0, 0, 0, 1, 0, 0, 0, 0, 0, 0, 0, 0, 0, 0, 0, 0, 0, 0, 1, 0, 0, 0, 0, 0, 0, 0, 0, 0, 0, 0, 0, 0, 1, 0, 0, 0, 0, 0, 0, 0, 0, 0, 0, 0, 0, 0, 0, 0, 0, 0, 2, 0, 1, 0, 0, 0, 0, 0, 0, 0, 0, 0, 0, 0, 0, 0, 0, 0, 1, 0, 0, 1, 1, 0, 1, 0, 0, 0, 0, 0, 0, 0, 1, 0, 0, 0, 0, 0, 0, 0, 0, 0, 0, 0, 0, 0, 0, 1, 0, 0, 0, 0, 0, 0, 0, 0, 0, 1, 0, 2, 0, 0, 0, 0, 0, 0, 0, 0, 0, 0, 0, 1, 0, 1, 0, 0, 0, 1, 0, 0, 0, 0, 0, 0, 0, 0, 0, 0, 0, 0, 0, 0, 0, 0, 0, 0, 0, 1, 0, 0, 0, 0, 0, 1, 0, 0, 0, 0, 0, 0, 0, 0, 0, 0, 0, 1, 1, 0, 0, 1, 0, 0, 0, 0, 0, 0, 0, 0, 0, 0, 0, 0, 0, 1, 0, 0, 0, 0, 1, 0, 1, 0, 0, 0, 0, 0, 0, 0, 0, 0, 0, 0, 0, 0, 0, 0, 0, 0, 0, 0, 0, 0, 0, 0, 0, 0, 0, 0, 1, 0, 0, 0, 0, 0, 0, 0, 0, 0, 0, 0, 2, 1, 0, 0, 0, 0, 0, 0, 0, 0, 2, 0, 1, 3, 0, 2, 0, 0, 0, 0, 0, 0, 0, 0, 0, 0, 0, 0, 0, 0, 0, 0, 0, 0, 0, 0, 0, 0, 1, 0, 0, 0, 0, 1, 0, 0, 0, 0, 0, 0, 0, 0, 0, 0, 0, 0, 0, 0, 0, 0, 0, 0, 1, 0, 0, 0, 0, 1, 0, 0, 0, 0, 0, 0, 0, 0, 0, 0, 0, 0, 1, 0, 0, 0, 0, 0, 0, 0, 0, 0, 0, 1, 0, 0, 0, 0, 1, 0, 0, 0, 0, 1, 0, 0, 0, 0, 0, 1, 0, 0, 0, 0, 0, 0, 0, 0, 0, 1, 0, 0, 1, 0, 0, 0, 0, 0, 0, 0, 0, 0]\n",
      "--------------------------------------------------\n",
      "Texto original: ['duración', 'batería', 'smartphones', 'desafío', 'constante', 'vida', 'útil', 'batería', 'convertido', 'temas', 'discutidos', 'mundo', 'smartphones', 'constante', 'demanda', 'aplicaciones', 'servicios', 'consumen', 'grandes', 'cantidades', 'energía', 'fabricantes', 'bajo', 'presión', 'ofrecer', 'soluciones', 'innovadoras', 'recientemente', 'fabricante', 'mobitech', 'anunció', 'tecnología', 'batería', 'avanzada', 'según', 'afirman', 'puede', 'durar', 'tres', 'días', 'uso', 'moderado', 'si', 'promesa', 'cumple', 'podría', 'marcar', 'después', 'experiencia', 'usuario', 'móvil']\n",
      "Vectorizado: [0, 0, 0, 0, 1, 0, 0, 1, 0, 1, 0, 0, 1, 0, 0, 0, 0, 0, 0, 0, 0, 0, 1, 0, 0, 0, 0, 0, 0, 0, 0, 0, 0, 0, 0, 0, 0, 0, 0, 0, 0, 0, 1, 0, 0, 0, 0, 0, 0, 0, 0, 0, 0, 0, 0, 0, 0, 0, 0, 0, 1, 0, 0, 0, 0, 0, 0, 0, 0, 0, 0, 0, 0, 0, 1, 0, 0, 0, 0, 0, 0, 0, 0, 1, 0, 1, 0, 1, 0, 0, 1, 0, 0, 0, 0, 0, 0, 0, 0, 0, 0, 0, 0, 0, 1, 0, 0, 0, 0, 1, 0, 0, 0, 0, 0, 0, 0, 0, 0, 0, 0, 1, 0, 0, 0, 0, 0, 0, 0, 0, 0, 0, 0, 0, 0, 0, 1, 0, 0, 0, 0, 0, 0, 0, 0, 0, 0, 0, 0, 0, 0, 0, 0, 2, 0, 0, 0, 0, 1, 0, 0, 0, 0, 0, 0, 0, 0, 0, 0, 0, 0, 0, 0, 1, 0, 0, 0, 0, 0, 0, 0, 0, 0, 0, 0, 3, 0, 0, 0, 0, 0, 1, 0, 0, 0, 0, 0, 0, 0, 0, 0, 1, 0, 0, 0, 0, 0, 0, 0, 0, 0, 0, 0, 0, 0, 0, 0, 0, 0, 0, 0, 0, 0, 0, 0, 0, 0, 0, 0, 0, 1, 1, 0, 0, 0, 0, 0, 0, 1, 1, 0, 0, 0, 0, 0, 0, 0, 0, 0, 0, 0, 0, 1, 0, 1, 0, 0, 0, 1, 0, 0, 0, 0, 0, 0, 0, 0, 0, 0, 0, 0, 0, 0, 1, 1, 0, 0, 0, 0, 0, 0, 0, 0, 0, 0, 0, 0, 0, 0, 0, 0, 0, 0, 0, 0, 0, 0, 0, 0, 1, 1, 0, 0, 0, 1, 0, 0, 0, 0, 0, 0, 0, 0, 0, 0, 0, 1, 0, 0, 0, 0, 0, 0, 0, 0, 0, 0, 0, 0, 0, 1, 0, 0, 0, 1, 0, 0, 0, 0, 0, 0, 0, 0, 0, 0, 1, 0, 0, 1, 0, 0, 1, 0, 0, 0, 1, 0, 0, 0, 1, 0, 0, 0, 0, 0, 0, 0, 0, 0, 0, 0, 0, 0, 0, 0, 0, 1, 0, 0, 0, 0, 0, 1, 0, 0, 0, 0, 0, 0, 0, 0, 0, 0, 0, 0, 0, 0, 0, 0, 1, 0, 0, 0, 0, 2, 0, 0, 0, 0, 0, 1, 0, 0, 0, 0, 0, 0, 0, 0, 0]\n",
      "--------------------------------------------------\n",
      "Texto original: ['aplicaciones', 'móviles', 'descargadas', 'mes', 'auge', 'aplicaciones', 'móviles', 'continúa', 'creciendo', 'pasos', 'agigantados', 'mes', 'aplicación', 'edición', 'video', 'clipmaster', 'liderado', 'listas', 'descargas', 'seguida', 'cerca', 'app', 'fitness', 'fitjourney', 'ambas', 'aplicaciones', 'demuestran', 'interés', 'creciente', 'usuarios', 'herramientas', 'permitan', 'mejorar', 'calidad', 'vida', 'expresarse', 'creativamente', 'millones', 'apps', 'disponibles', 'evidente', 'móviles', 'convertido', 'herramientas', 'esenciales', 'vida', 'cotidiana']\n",
      "Vectorizado: [0, 0, 0, 0, 0, 0, 0, 0, 0, 0, 0, 0, 0, 0, 0, 1, 0, 0, 0, 0, 0, 0, 0, 0, 0, 0, 0, 0, 0, 0, 0, 0, 0, 0, 0, 1, 1, 0, 0, 0, 1, 1, 0, 0, 0, 0, 0, 0, 0, 1, 0, 0, 0, 0, 0, 0, 0, 0, 0, 0, 0, 0, 0, 0, 0, 0, 0, 1, 0, 0, 1, 0, 0, 0, 0, 0, 0, 0, 0, 0, 0, 0, 0, 0, 0, 0, 0, 0, 0, 0, 0, 0, 0, 0, 0, 0, 0, 0, 0, 1, 0, 0, 1, 0, 0, 0, 1, 0, 1, 2, 0, 0, 0, 0, 0, 0, 0, 0, 0, 0, 0, 0, 1, 0, 0, 0, 0, 0, 0, 0, 0, 0, 0, 0, 0, 0, 0, 0, 0, 0, 1, 0, 0, 0, 0, 0, 1, 0, 0, 0, 0, 0, 1, 0, 0, 0, 0, 0, 0, 0, 0, 0, 0, 0, 0, 0, 0, 0, 0, 0, 0, 0, 0, 0, 0, 0, 0, 0, 0, 0, 0, 0, 1, 0, 0, 0, 0, 0, 0, 0, 1, 0, 0, 0, 0, 0, 0, 0, 0, 1, 0, 0, 0, 0, 0, 0, 0, 0, 0, 0, 0, 0, 1, 0, 0, 0, 0, 0, 0, 0, 0, 0, 0, 0, 0, 0, 0, 0, 0, 0, 0, 0, 0, 0, 0, 1, 0, 0, 0, 0, 1, 0, 0, 0, 0, 0, 0, 0, 0, 0, 0, 2, 0, 0, 0, 0, 0, 0, 0, 0, 0, 0, 0, 0, 0, 0, 0, 0, 0, 0, 0, 0, 0, 0, 1, 0, 1, 0, 0, 1, 0, 0, 2, 1, 0, 0, 0, 1, 1, 0, 0, 0, 0, 0, 0, 0, 0, 0, 0, 0, 0, 0, 0, 0, 0, 0, 1, 0, 3, 0, 0, 0, 0, 0, 1, 0, 0, 0, 0, 0, 0, 0, 0, 0, 0, 1, 0, 0, 0, 0, 3, 0, 0, 0, 0, 0, 1, 0, 0, 0, 0, 0, 0, 0, 0, 0, 0, 0, 0, 1, 0, 0, 0, 0, 0, 0, 0, 0, 0, 0, 0, 0, 0, 0, 0, 0, 0, 0, 0, 0, 0, 1, 0, 0, 0, 0, 0, 0, 0, 0, 0, 0, 0, 0, 0, 0, 0, 0, 0, 0, 0, 0, 0, 0, 0, 0, 0, 0, 0, 0, 0, 0, 0, 0, 0, 0, 0, 0, 1, 0, 0, 0, 0, 0, 0, 0, 0, 0, 0, 0]\n",
      "--------------------------------------------------\n",
      "Texto original: ['futuro', 'coches', 'eléctricos', 'brilla', 'nunca', 'calles', 'ciudades', 'experimentando', 'cambio', 'coches', 'eléctricos', 'vez', 'considerados', 'lujo', 'ahora', 'presentes', 'nunca', 'semana', 'marca', 'autovolt', 'presentó', 'último', 'modelo', 'e-power', '4000', 'promete', 'autonomía', '500', 'kilómetros', 'sola', 'carga', 'además', 'vehículo', 'totalmente', 'ecológico', 'produciendo', 'cero', 'emisiones', 'estaciones', 'carga', 'aumentando', 'número', 'haciendo', 'transición', 'eléctrico', 'fácil']\n",
      "Vectorizado: [0, 0, 0, 0, 0, 0, 0, 0, 0, 0, 0, 0, 0, 1, 0, 0, 1, 0, 0, 0, 0, 0, 0, 0, 0, 0, 0, 0, 1, 0, 0, 0, 0, 0, 0, 0, 0, 0, 1, 0, 0, 0, 0, 0, 0, 1, 0, 0, 0, 0, 0, 0, 0, 0, 0, 0, 0, 0, 0, 0, 0, 1, 1, 0, 0, 0, 1, 0, 1, 1, 0, 0, 0, 0, 0, 0, 0, 0, 0, 0, 1, 0, 0, 0, 0, 0, 0, 0, 0, 0, 0, 1, 0, 0, 0, 0, 0, 0, 0, 0, 0, 0, 0, 0, 0, 2, 0, 0, 0, 0, 0, 0, 0, 0, 0, 0, 0, 0, 0, 0, 0, 0, 0, 0, 0, 0, 0, 1, 0, 0, 0, 1, 0, 0, 0, 0, 0, 0, 0, 0, 0, 0, 0, 0, 0, 0, 0, 0, 0, 0, 0, 0, 0, 0, 0, 0, 0, 1, 0, 0, 0, 0, 0, 0, 0, 0, 0, 0, 0, 0, 0, 0, 0, 0, 0, 0, 0, 0, 0, 0, 0, 0, 0, 0, 1, 0, 0, 0, 0, 0, 0, 0, 0, 0, 0, 0, 0, 0, 0, 0, 0, 0, 0, 0, 1, 0, 0, 0, 0, 0, 0, 0, 0, 1, 1, 0, 0, 0, 0, 0, 0, 1, 0, 0, 0, 0, 0, 0, 0, 0, 0, 0, 0, 1, 0, 0, 1, 0, 0, 0, 0, 1, 0, 0, 0, 0, 0, 0, 0, 0, 0, 0, 0, 0, 0, 0, 0, 0, 0, 0, 0, 0, 0, 0, 0, 0, 0, 0, 0, 0, 0, 1, 0, 0, 0, 0, 0, 2, 0, 0, 0, 0, 0, 0, 0, 0, 1, 0, 0, 0, 0, 0, 0, 0, 0, 0, 0, 0, 1, 0, 0, 0, 0, 0, 0, 1, 0, 0, 0, 0, 0, 0, 0, 0, 0, 0, 0, 0, 0, 0, 0, 0, 0, 0, 0, 0, 1, 0, 0, 0, 0, 0, 2, 0, 0, 0, 0, 0, 1, 0, 0, 0, 0, 0, 0, 0, 0, 0, 0, 0, 0, 0, 0, 1, 0, 0, 0, 0, 0, 0, 1, 0, 0, 0, 0, 0, 0, 1, 0, 0, 0, 0, 0, 0, 0, 0, 0, 0, 1, 0, 0, 0, 0, 0, 0, 0, 0, 0, 0, 0, 0, 0, 0, 0, 0, 2, 0, 0, 1, 0, 0, 0, 0, 1, 0, 1, 0, 0, 0, 0, 0, 0, 0, 0, 1, 1, 0, 0, 0, 0]\n",
      "--------------------------------------------------\n",
      "Texto original: ['subvenciones', 'estatales', 'impulsan', 'adopción', 'vehículos', 'eléctricos', 'gobierno', 'anunciado', 'nuevo', 'paquete', 'subvenciones', 'aquellos', 'decidan', 'comprar', 'coche', 'eléctrico', 'medida', 'busca', 'reducir', 'contaminación', 'fomentar', 'movilidad', 'sostenible', 'nueva', 'subvención', 'compradores', 'podrán', 'beneficiarse', '25', 'descuento', 'adquisición', 'nuevo', 'vehículo', 'eléctrico', 'empresas', 'automotrices', 'celebran', 'decisión', 'esperan', 'aumento', 'ventas', 'próximos', 'trimestres']\n",
      "Vectorizado: [0, 0, 0, 1, 0, 0, 0, 0, 0, 0, 1, 0, 0, 0, 0, 0, 0, 0, 0, 0, 0, 0, 0, 0, 0, 0, 0, 0, 0, 0, 0, 0, 0, 0, 0, 0, 0, 0, 0, 0, 0, 0, 0, 0, 0, 0, 0, 0, 1, 0, 0, 0, 0, 0, 0, 0, 0, 0, 0, 0, 0, 0, 0, 0, 0, 0, 0, 0, 0, 0, 0, 1, 0, 0, 0, 0, 0, 0, 0, 0, 0, 0, 0, 0, 0, 0, 0, 0, 1, 0, 0, 0, 0, 0, 0, 0, 0, 0, 0, 0, 0, 0, 0, 0, 0, 0, 0, 0, 0, 0, 2, 1, 0, 0, 0, 0, 0, 0, 1, 1, 0, 0, 0, 0, 0, 0, 0, 0, 0, 0, 0, 0, 0, 0, 0, 0, 0, 0, 1, 0, 0, 0, 0, 0, 0, 0, 0, 0, 0, 0, 0, 0, 0, 0, 0, 0, 0, 0, 0, 0, 0, 0, 0, 0, 0, 0, 0, 0, 0, 0, 2, 0, 0, 0, 1, 0, 0, 0, 0, 0, 1, 0, 0, 0, 0, 0, 0, 0, 0, 0, 0, 0, 0, 1, 1, 0, 1, 0, 0, 0, 0, 0, 0, 1, 0, 0, 1, 0, 0, 0, 0, 0, 0, 0, 2, 1, 0, 0, 0, 0, 1, 0, 0, 0, 0, 0, 0, 0, 0, 0, 0, 0, 0, 0, 0, 0, 0, 0, 0, 0, 0, 0, 0, 0, 0, 0, 0, 0, 1, 0, 0, 0, 0, 0, 0, 0, 0, 0, 0, 0, 0, 0, 0, 0, 0, 0, 0, 1, 0, 0, 1, 1, 0, 0, 0, 0, 0, 1, 0, 0, 0, 0, 0, 0, 0, 0, 0, 0, 0, 0, 0, 0, 0, 0, 0, 0, 1, 0, 0, 0, 0, 0, 0, 0, 0, 0, 0, 0, 0, 0, 0, 0, 1, 1, 0, 0, 0, 0, 0, 0, 0, 1, 0, 0, 0, 0, 0, 1, 0, 0, 0, 0, 0, 0, 0, 0, 0, 1, 0, 0, 0, 0, 0, 0, 0, 0, 0, 0, 0, 0, 0, 0, 0, 0, 0, 0, 0, 0, 0, 0, 0, 1, 0, 0, 0, 1, 0, 0, 0, 0, 0, 0, 0, 0, 0, 1, 0, 0, 0, 0, 0, 0, 0, 0, 0, 0, 0, 0, 0, 1, 0, 0, 1, 0, 0, 0, 0, 1, 0, 0, 0, 0, 0, 0, 0, 0, 0, 0, 0, 0, 0, 0, 0, 1, 0, 0, 0, 0, 1, 0]\n",
      "--------------------------------------------------\n",
      "Texto original: ['pantallas', 'plegables', 'nueva', 'tendencia', 'smartphones', 'mundo', 'tecnología', 'móvil', 'nunca', 'deja', 'sorprender', 'marca', 'líder', 'cellflex', 'presentado', 'nuevo', 'modelo', 'flexphone', 'ultra', 'cuenta', 'innovadora', 'pantalla', 'plegable', 'diseño', 'permite', 'usuarios', 'disfrutar', 'dispositivo', 'compacto', 'desplegarse', 'ofrece', 'pantalla', 'tamaño', 'tablet', 'críticas', 'iniciales', 'elogian', 'calidad', 'pantalla', 'versatilidad', 'diseño', 'aporta', 'prediciendo', 'fabricantes', 'seguirán', 'tendencia']\n",
      "Vectorizado: [0, 0, 0, 0, 0, 0, 0, 0, 0, 0, 0, 1, 0, 0, 0, 0, 0, 0, 0, 0, 0, 0, 1, 0, 0, 0, 0, 0, 0, 0, 0, 0, 0, 0, 0, 0, 0, 0, 0, 0, 0, 0, 0, 0, 0, 0, 0, 0, 1, 0, 0, 0, 0, 0, 0, 0, 0, 0, 1, 0, 0, 0, 0, 0, 0, 0, 0, 0, 0, 0, 0, 0, 0, 1, 0, 0, 0, 0, 0, 0, 0, 0, 0, 0, 0, 0, 0, 0, 0, 0, 0, 0, 0, 0, 0, 0, 0, 1, 0, 0, 1, 0, 0, 2, 0, 1, 0, 0, 1, 0, 1, 0, 0, 0, 0, 0, 0, 0, 0, 0, 0, 0, 1, 0, 0, 0, 0, 0, 0, 2, 0, 0, 0, 1, 0, 0, 0, 0, 0, 0, 0, 1, 0, 0, 0, 0, 0, 0, 0, 0, 0, 0, 0, 0, 0, 0, 0, 1, 1, 1, 0, 0, 0, 0, 0, 0, 1, 0, 0, 0, 0, 0, 0, 0, 0, 1, 0, 0, 0, 0, 0, 0, 0, 0, 1, 0, 0, 0, 0, 0, 0, 0, 0, 0, 0, 0, 0, 0, 0, 0, 0, 0, 0, 0, 0, 0, 0, 0, 0, 0, 0, 1, 0, 0, 0, 0, 0, 0, 1, 0, 0, 0, 1, 0, 0, 0, 3, 0, 0, 0, 0, 0, 0, 0, 1, 0, 0, 0, 0, 0, 0, 0, 0, 0, 1, 1, 0, 0, 0, 0, 0, 0, 0, 1, 0, 1, 1, 0, 0, 0, 0, 0, 0, 0, 0, 0, 0, 0, 0, 1, 0, 0, 0, 0, 0, 0, 0, 0, 0, 0, 0, 0, 0, 0, 0, 0, 0, 0, 0, 0, 0, 0, 0, 0, 0, 0, 0, 0, 0, 0, 1, 0, 0, 0, 0, 0, 0, 0, 0, 0, 0, 0, 0, 0, 0, 0, 0, 0, 0, 0, 0, 0, 0, 0, 0, 0, 0, 0, 0, 0, 0, 0, 0, 0, 0, 0, 0, 0, 0, 0, 0, 0, 1, 0, 0, 0, 0, 0, 0, 0, 0, 0, 0, 0, 0, 1, 1, 1, 0, 0, 0, 0, 0, 0, 0, 0, 0, 0, 0, 0, 0, 0, 1, 0, 0, 0, 0, 1, 0, 0, 0, 0, 0, 0, 0, 0, 0, 0, 0, 0, 0, 0, 0, 0, 0, 0, 0, 0, 0, 0, 1, 0, 0, 0, 1, 0, 0, 0, 0, 0, 0, 0, 0, 0, 0, 0, 1, 0, 0, 0]\n",
      "--------------------------------------------------\n",
      "Texto original: ['realidad', 'aumentada', 'transforma', 'experiencia', 'móvil', 'tecnología', 'realidad', 'aumentada', 'ar', 'cada', 'vez', 'avanzada', 'dispositivos', 'móviles', 'ofrecen', 'experiencias', 'nunca', 'vistas', 'app', 'arworld', 'lanzada', 'recientemente', 'permite', 'usuarios', 'visualizar', 'muebles', 'propios', 'hogares', 'comprarlos', 'incluso', 'probarse', 'ropa', 'virtualmente', 'posibilidades', 'infinitas', 'desarrolladores', 'apps', 'trabajando', 'arduamente', 'aprovechar', 'potencial', 'ar', 'mundo', 'móvil']\n",
      "Vectorizado: [0, 0, 0, 0, 0, 0, 0, 0, 1, 0, 0, 0, 0, 0, 0, 0, 0, 0, 1, 0, 0, 0, 1, 0, 0, 0, 0, 0, 0, 0, 0, 0, 2, 0, 0, 0, 0, 0, 0, 2, 0, 0, 0, 1, 0, 0, 0, 0, 0, 0, 0, 0, 0, 0, 0, 0, 0, 0, 0, 0, 0, 0, 0, 0, 0, 0, 0, 0, 1, 0, 1, 0, 0, 0, 1, 0, 1, 1, 0, 0, 0, 0, 0, 0, 0, 0, 0, 0, 0, 1, 0, 0, 0, 0, 0, 0, 0, 1, 0, 0, 0, 0, 0, 0, 0, 1, 0, 1, 0, 0, 0, 0, 0, 0, 0, 0, 0, 0, 0, 0, 0, 0, 1, 0, 0, 0, 0, 0, 0, 0, 0, 0, 0, 0, 0, 0, 0, 0, 0, 1, 1, 0, 0, 0, 0, 0, 0, 1, 0, 0, 0, 0, 0, 0, 0, 0, 2, 0, 0, 0, 0, 0, 0, 0, 0, 0, 0, 0, 0, 0, 0, 0, 0, 0, 0, 0, 1, 0, 0, 0, 0, 0, 0, 0, 0, 0, 0, 0, 0, 0, 0, 1, 0, 0, 0, 0, 0, 0, 0, 0, 0, 0, 0, 0, 0, 1, 0, 0, 0, 0, 1, 0, 0, 0, 0, 0, 0, 0, 0, 0, 0, 0, 0, 0, 0, 0, 0, 0, 0, 0, 0, 0, 0, 0, 0, 0, 0, 0, 0, 0, 0, 0, 0, 0, 0, 0, 0, 0, 0, 0, 0, 0, 0, 0, 0, 0, 0, 0, 0, 1, 0, 0, 0, 0, 0, 0, 0, 0, 0, 0, 0, 0, 0, 0, 0, 0, 0, 0, 0, 0, 1, 0, 0, 0, 0, 0, 0, 0, 0, 0, 0, 0, 0, 0, 0, 1, 0, 0, 0, 1, 2, 0, 0, 0, 0, 0, 0, 0, 1, 0, 0, 1, 0, 0, 0, 0, 0, 0, 0, 0, 0, 0, 0, 1, 0, 0, 0, 0, 0, 0, 0, 1, 0, 0, 0, 1, 0, 0, 0, 0, 0, 0, 0, 1, 0, 0, 0, 1, 0, 0, 0, 0, 0, 0, 0, 1, 0, 0, 0, 0, 0, 0, 0, 0, 0, 0, 0, 0, 0, 0, 0, 0, 0, 0, 0, 0, 0, 0, 0, 0, 1, 0, 0, 0, 0, 0, 0, 0, 0, 0, 0, 0, 0, 0, 0, 0, 1, 0, 0, 0, 0, 0, 0, 0, 0, 0, 0, 0, 0, 0, 0, 0, 0, 0, 0, 0, 0, 0, 0, 1]\n",
      "--------------------------------------------------\n",
      "Texto original: ['ecodrive', 'coche', 'eléctrico', 'económico', 'revolución', 'eléctrica', 'detiene', 'compañía', 'automovilística', 'ecomovers', 'lanzado', 'modelo', 'ecodrive', 'vehículo', 'eléctrico', 'pensado', 'ser', 'asequible', 'gran', 'público', 'autonomía', 'respetable', '350', 'kilómetros', 'precio', 'competitivo', 'ecodrive', 'busca', 'ser', 'opción', 'ideal', 'aquellos', 'desean', 'dar', 'salto', 'mundo', 'eléctrico', 'vaciar', 'bolsillos', 'reservas', 'disponibles', 'espera', 'alta', 'demanda']\n",
      "Vectorizado: [0, 0, 1, 0, 0, 0, 0, 0, 0, 0, 0, 0, 0, 0, 0, 0, 1, 0, 0, 0, 0, 0, 0, 0, 0, 0, 0, 0, 0, 0, 0, 1, 0, 0, 0, 0, 0, 0, 0, 0, 0, 0, 0, 0, 0, 0, 0, 1, 0, 0, 1, 0, 0, 0, 0, 0, 0, 0, 0, 0, 0, 0, 0, 0, 0, 0, 0, 0, 0, 0, 0, 0, 0, 0, 0, 0, 0, 0, 0, 0, 0, 0, 0, 0, 1, 0, 0, 1, 0, 0, 0, 0, 0, 1, 0, 0, 0, 0, 1, 0, 0, 0, 0, 0, 0, 0, 0, 0, 0, 0, 0, 1, 0, 0, 0, 1, 0, 1, 0, 0, 0, 0, 0, 0, 1, 0, 0, 0, 0, 0, 0, 0, 0, 0, 0, 0, 0, 0, 0, 0, 0, 0, 0, 0, 1, 0, 0, 0, 0, 0, 0, 0, 0, 0, 0, 0, 0, 0, 0, 0, 0, 1, 1, 0, 0, 0, 0, 0, 0, 0, 0, 0, 0, 0, 0, 0, 0, 0, 0, 0, 0, 0, 0, 0, 1, 0, 0, 0, 0, 0, 0, 0, 0, 0, 0, 0, 0, 0, 0, 0, 0, 0, 1, 0, 1, 0, 0, 0, 0, 0, 0, 0, 0, 0, 3, 0, 0, 0, 0, 0, 0, 0, 0, 0, 0, 0, 0, 1, 0, 0, 0, 0, 0, 0, 0, 1, 0, 0, 0, 0, 0, 0, 0, 0, 0, 0, 1, 0, 0, 0, 0, 0, 0, 0, 0, 0, 0, 0, 0, 0, 0, 0, 0, 0, 0, 1, 0, 0, 0, 0, 0, 1, 0, 0, 0, 0, 0, 0, 0, 0, 0, 0, 0, 0, 0, 0, 0, 0, 0, 0, 0, 0, 0, 0, 0, 0, 0, 1, 0, 0, 0, 0, 0, 0, 0, 0, 0, 0, 0, 0, 0, 0, 0, 0, 0, 0, 0, 0, 1, 1, 0, 0, 0, 0, 0, 0, 0, 0, 0, 0, 0, 0, 0, 0, 0, 0, 0, 0, 0, 0, 0, 0, 0, 0, 0, 0, 0, 0, 0, 0, 0, 0, 1, 0, 0, 1, 0, 0, 1, 0, 0, 0, 0, 1, 0, 0, 0, 0, 0, 0, 0, 0, 0, 0, 3, 0, 0, 0, 0, 0, 0, 0, 0, 1, 0, 0, 0, 0, 0, 0, 1, 0, 1, 0, 0, 0, 0, 0, 0, 0, 0, 0, 0, 0, 0, 0, 1, 0, 0, 2, 0, 0, 0, 1, 0, 0, 0, 0, 0, 0]\n",
      "--------------------------------------------------\n",
      "Texto original: ['supercargadores', 'carga', 'rápida', 'coches', 'eléctricos', 'mayores', 'desafíos', 'vehículos', 'eléctricos', 'sido', 'tiempo', 'carga', 'embargo', 'empresa', 'powercharge', 'anunciado', 'nueva', 'red', 'supercargadores', 'capaces', 'cargar', 'coche', 'eléctrico', 'solo', '20', 'minutos', 'supercargadores', 'instalados', 'estaciones', 'servicio', 'centros', 'comerciales', 'permitiendo', 'conductores', 'recargar', 'vehículos', 'tiempo', 'lleva', 'tomar', 'café', 'paso', 'hacia', 'adopción', 'masiva', 'movilidad', 'eléctrica']\n",
      "Vectorizado: [0, 0, 0, 0, 0, 0, 0, 0, 0, 0, 0, 0, 0, 0, 0, 0, 0, 0, 0, 0, 0, 0, 0, 0, 0, 1, 1, 0, 0, 0, 0, 0, 0, 0, 0, 0, 0, 1, 0, 0, 0, 0, 0, 0, 0, 0, 0, 0, 1, 0, 1, 1, 0, 0, 0, 0, 0, 0, 0, 0, 0, 0, 0, 0, 0, 0, 0, 0, 0, 0, 0, 0, 1, 0, 0, 0, 0, 0, 0, 1, 0, 0, 0, 0, 0, 0, 0, 0, 0, 0, 0, 0, 0, 0, 0, 0, 0, 0, 0, 0, 0, 0, 0, 0, 0, 0, 0, 0, 0, 0, 0, 0, 0, 0, 2, 0, 1, 0, 0, 0, 0, 0, 0, 0, 0, 0, 0, 1, 0, 0, 0, 0, 0, 0, 0, 0, 0, 1, 0, 0, 0, 0, 0, 0, 0, 0, 0, 0, 0, 0, 0, 0, 0, 0, 0, 0, 0, 0, 0, 0, 1, 0, 0, 0, 0, 1, 0, 0, 0, 0, 0, 0, 0, 0, 1, 0, 0, 0, 0, 1, 0, 0, 0, 0, 0, 0, 0, 0, 1, 1, 0, 0, 0, 0, 0, 1, 0, 0, 0, 0, 0, 0, 0, 0, 0, 0, 0, 0, 0, 0, 0, 0, 0, 0, 1, 0, 1, 1, 0, 0, 0, 0, 0, 0, 0, 0, 0, 0, 1, 0, 0, 0, 0, 0, 0, 0, 0, 0, 0, 0, 0, 0, 1, 0, 0, 0, 0, 0, 0, 0, 0, 0, 0, 0, 0, 0, 0, 0, 0, 0, 1, 0, 1, 3, 0, 0, 0, 0, 0, 0, 1, 0, 0, 0, 0, 0, 0, 2, 0, 0, 0, 1, 0, 0, 0, 0, 0, 0, 0, 0, 0, 0, 0, 1, 0, 0, 0, 0, 0, 0, 0, 1, 0, 0, 0, 0, 0, 0, 0, 0, 0, 0, 2, 1, 0, 0, 0, 0, 0, 0, 0, 0, 1, 0, 0, 0, 0, 0, 0, 0, 0, 0, 2, 0, 0, 0, 0, 0, 0, 0, 0, 0, 0, 0, 0, 0, 0, 0, 0, 0, 1, 0, 0, 0, 0, 0, 0, 0, 0, 0, 0, 0, 0, 0, 0, 0, 0, 0, 0, 0, 0, 0, 0, 0, 0, 0, 0, 0, 0, 0, 0, 0, 0, 0, 0, 0, 0, 0, 0, 0, 0, 0, 0, 0, 1, 1, 0, 0, 0, 0, 0, 0, 0, 0, 0, 0, 0, 0, 0, 0, 0, 0, 0, 1, 0, 0, 0, 0, 0, 0]\n",
      "--------------------------------------------------\n",
      "Texto original: ['seguridad', 'móvil', 'mira', 'expertos', 'aumento', 'uso', 'smartphones', 'tareas', 'banca', 'línea', 'compras', 'seguridad', 'convertido', 'prioridad', 'empresa', 'securemobile', 'lanzado', 'nueva', 'suite', 'herramientas', 'seguridad', 'prometen', 'mantener', 'salvo', 'información', 'personal', 'financiera', 'usuarios', 'aplicación', 'utiliza', 'encriptación', 'grado', 'militar', 'autenticación', 'dos', 'factores', 'garantizar', 'datos', 'usuario', 'protegidos', 'posibles', 'amenazas']\n",
      "Vectorizado: [0, 0, 0, 0, 0, 0, 1, 0, 0, 0, 0, 0, 0, 0, 3, 0, 0, 0, 0, 0, 0, 0, 0, 0, 0, 0, 0, 1, 0, 0, 0, 0, 0, 0, 0, 0, 0, 0, 0, 0, 0, 0, 0, 0, 0, 0, 0, 0, 1, 1, 0, 0, 0, 0, 0, 1, 0, 0, 0, 1, 0, 0, 0, 0, 1, 0, 0, 0, 0, 0, 0, 0, 0, 0, 0, 1, 0, 0, 0, 0, 0, 1, 0, 0, 0, 0, 0, 0, 0, 0, 0, 0, 0, 0, 1, 0, 0, 0, 0, 0, 0, 0, 0, 0, 0, 0, 0, 0, 0, 0, 0, 0, 0, 1, 0, 0, 0, 0, 0, 0, 0, 0, 1, 1, 1, 0, 0, 0, 0, 0, 0, 0, 0, 0, 0, 0, 0, 0, 0, 0, 0, 0, 0, 0, 0, 0, 0, 0, 0, 1, 1, 0, 0, 0, 0, 1, 0, 0, 0, 0, 0, 0, 0, 1, 1, 0, 0, 0, 0, 0, 0, 0, 0, 1, 0, 0, 0, 0, 0, 0, 0, 0, 0, 0, 0, 0, 0, 0, 0, 0, 0, 0, 0, 0, 0, 0, 0, 0, 0, 0, 1, 0, 0, 0, 0, 0, 0, 0, 0, 0, 0, 0, 0, 0, 0, 0, 0, 0, 0, 0, 0, 0, 0, 0, 0, 0, 0, 0, 1, 0, 0, 0, 0, 0, 0, 0, 0, 0, 1, 0, 0, 0, 0, 0, 0, 0, 0, 0, 0, 0, 0, 1, 0, 0, 0, 0, 0, 1, 0, 0, 0, 1, 0, 0, 1, 0, 0, 0, 0, 0, 0, 0, 0, 0, 1, 1, 0, 0, 0, 0, 0, 0, 0, 0, 0, 0, 0, 0, 0, 1, 0, 0, 0, 0, 0, 0, 0, 0, 0, 0, 1, 0, 0, 0, 0, 0, 0, 0, 0, 0, 0, 0, 0, 0, 0, 0, 0, 0, 0, 0, 0, 1, 0, 0, 0, 0, 0, 0, 0, 0, 0, 0, 0, 0, 0, 0, 0, 0, 0, 0, 1, 0, 0, 0, 0, 0, 1, 0, 0, 0, 0, 0, 0, 0, 1, 0, 0, 0, 0, 0, 0, 0, 0, 0, 0, 0, 1, 0, 0, 0, 0, 0, 0, 0, 0, 0, 0, 0, 0, 0, 0, 0, 0, 0, 1, 0, 0, 0, 0, 0, 0, 0, 0, 0, 0, 0, 0, 0, 0, 0, 0, 0, 0, 0, 1, 0, 0, 0, 0, 0, 0, 1, 0, 0, 0, 0, 0, 0, 0, 0]\n",
      "--------------------------------------------------\n",
      "Texto original: ['integración', 'avanzada', 'smartphones', 'vehículos', 'eléctricos', 'futuro', 'conducción', 'conectada', 'mundo', 'automoción', 'tecnología', 'móvil', 'convergiendo', 'rápidamente', 'recientemente', 'firma', 'automovilística', 'electrocar', 'gigante', 'telefonía', 'móvil', 'smarttech', 'anunciado', 'colaboración', 'precedentes', 'próximo', 'modelo', 'electrocar', 'e-fusion', '360', 'ofrecerá', 'integración', 'total', 'smartphone', 'galaxyx', 'smarttech', 'conductores', 'podrán', 'controlar', 'diversas', 'funciones', 'vehículo', 'climatización', 'navegación', 'directamente', 'teléfono', 'móvil', 'además', 'coche', 'incluirá', 'panel', 'carga', 'inalámbrica', 'dispositivo', 'ofrecerá', 'actualizaciones', 'tiempo', 'real', 'batería', 'sistemas', 'vehículo', 'anuncio', 'marca', 'hito', 'integración', 'movilidad', 'eléctrica', 'conectividad', 'móvil', 'prometiendo', 'experiencia', 'conducción', 'fluida', 'tecnológicamente', 'avanzada']\n",
      "Vectorizado: [0, 0, 0, 0, 0, 2, 0, 0, 0, 0, 0, 0, 0, 0, 0, 0, 0, 1, 0, 1, 0, 0, 1, 0, 0, 0, 0, 0, 0, 1, 0, 0, 0, 1, 1, 0, 0, 0, 0, 0, 0, 0, 0, 0, 0, 1, 0, 0, 0, 0, 1, 1, 0, 0, 0, 0, 0, 0, 0, 0, 0, 0, 0, 0, 0, 0, 0, 0, 0, 0, 0, 0, 0, 0, 1, 0, 0, 0, 0, 0, 0, 0, 0, 0, 0, 0, 0, 0, 0, 0, 0, 0, 0, 0, 0, 0, 1, 0, 0, 0, 0, 2, 0, 0, 0, 0, 0, 0, 0, 0, 0, 0, 0, 0, 1, 0, 0, 0, 0, 0, 2, 0, 0, 0, 0, 1, 1, 0, 0, 0, 1, 1, 0, 0, 0, 0, 0, 0, 1, 0, 0, 0, 0, 0, 1, 1, 0, 0, 0, 0, 0, 0, 0, 0, 1, 0, 0, 1, 0, 0, 0, 0, 0, 0, 0, 0, 0, 0, 0, 0, 0, 0, 1, 0, 0, 0, 0, 1, 1, 0, 0, 0, 0, 0, 1, 1, 0, 0, 0, 0, 0, 1, 1, 0, 0, 0, 0, 1, 0, 0, 0, 0, 0, 0, 0, 0, 0, 0, 1, 0, 0, 0, 0, 0, 0, 0, 0, 0, 0, 0, 0, 0, 0, 1, 0, 0, 0, 0, 0, 0, 0, 0, 0, 0, 0, 0, 0, 1, 0, 0, 0, 0, 0, 0, 0, 0, 0, 1, 0, 1, 0, 0, 0, 0, 0, 0, 0, 0, 0, 0, 0, 0, 0, 0, 0, 0, 1, 0, 0, 0, 1, 2, 3, 0, 0, 0, 0, 1, 0, 0, 0, 0, 0, 0, 1, 1, 0, 0, 0, 0, 0, 0, 0, 0, 1, 0, 0, 0, 0, 2, 4, 0, 0, 0, 0, 0, 0, 0, 0, 1, 1, 0, 1, 1, 0, 1, 0, 0, 0, 0, 1, 0, 0, 0, 2, 0, 0, 0, 0, 0, 0, 0, 1, 0, 0, 0, 0, 0, 0, 1, 0, 0, 0, 0, 1, 0, 0, 0, 0, 0, 0, 0, 0, 0, 0, 1, 0, 1, 0, 0, 0, 0, 0, 0, 1, 0, 0, 0, 0, 0, 0, 0, 0, 0, 0, 0, 0, 0, 0, 1, 0, 0, 0, 0, 0, 0, 0, 0, 1, 0, 0, 0, 0, 0, 0, 0, 0, 0, 0, 0, 0, 0, 0, 0, 1, 0, 0, 0, 0, 0, 0, 0, 0, 1, 0, 0, 0, 0, 0, 0]\n",
      "--------------------------------------------------\n",
      "Texto original: ['app', 'móvil', 'revoluciona', 'carga', 'vehículos', 'eléctricos', 'ciudad', 'carga', 'coches', 'eléctricos', 'áreas', 'urbanas', 'puede', 'ser', 'desafío', 'debido', 'disponibilidad', 'distribución', 'puntos', 'carga', 'embargo', 'nueva', 'aplicación', 'móvil', 'chargeongo', 'promete', 'cambiar', 'app', 'compatible', 'smartphones', 'permite', 'usuarios', 'localizar', 'estaciones', 'carga', 'cercanas', 'reservar', 'punto', 'específico', 'realizar', 'pagos', 'contacto', 'además', 'función', 'carga', 'inteligente', 'app', 'sugiere', 'conductores', 'momentos', 'económicos', 'cargar', 'basándose', 'tarifas', 'eléctricas', 'dinámicas', 'si', 'chargeongo', 'ofrece', 'integración', 'sistemas', 'navegación', 'vehículos', 'permitiendo', 'conductores', 'planificar', 'rutas', 'incluyan', 'paradas', 'estratégicas', 'puntos', 'carga', 'innovación', 'muestra', 'cómo', 'tecnología', 'móvil', 'facilitando', 'mejorando', 'experiencia', 'conducción', 'eléctrica', 'ciudad']\n",
      "Vectorizado: [0, 0, 0, 0, 0, 1, 0, 0, 0, 0, 0, 0, 0, 0, 0, 0, 0, 0, 0, 0, 1, 2, 1, 0, 0, 0, 0, 0, 0, 0, 1, 0, 0, 0, 0, 0, 0, 0, 0, 0, 0, 0, 0, 0, 0, 0, 0, 0, 1, 1, 1, 2, 1, 0, 1, 0, 0, 0, 0, 0, 0, 0, 0, 0, 0, 1, 0, 0, 0, 0, 0, 0, 0, 0, 0, 0, 0, 0, 0, 0, 0, 0, 1, 0, 0, 1, 1, 0, 0, 0, 0, 0, 0, 0, 0, 1, 0, 1, 0, 0, 0, 0, 0, 0, 0, 0, 0, 0, 0, 0, 0, 0, 0, 0, 0, 0, 0, 0, 0, 0, 0, 1, 1, 0, 0, 0, 1, 1, 0, 0, 0, 1, 0, 0, 0, 1, 0, 0, 0, 0, 3, 0, 0, 1, 0, 0, 0, 0, 1, 0, 0, 1, 0, 0, 1, 0, 0, 0, 0, 0, 0, 0, 0, 0, 0, 1, 0, 0, 1, 0, 0, 1, 0, 0, 0, 1, 0, 0, 0, 0, 0, 0, 0, 0, 0, 0, 1, 0, 0, 1, 0, 1, 0, 0, 0, 0, 0, 0, 1, 0, 0, 0, 0, 0, 0, 0, 0, 0, 0, 1, 0, 0, 0, 0, 0, 0, 0, 0, 0, 1, 0, 0, 0, 0, 1, 0, 0, 0, 0, 0, 0, 0, 1, 0, 0, 0, 0, 0, 0, 0, 0, 0, 0, 0, 0, 0, 0, 0, 0, 0, 0, 0, 0, 0, 0, 0, 0, 0, 0, 0, 0, 0, 0, 0, 0, 0, 0, 0, 1, 0, 0, 0, 1, 1, 0, 0, 0, 2, 0, 0, 0, 0, 0, 0, 0, 0, 0, 0, 0, 0, 0, 0, 1, 0, 0, 0, 0, 0, 0, 0, 3, 0, 0, 0, 0, 1, 0, 1, 0, 0, 0, 0, 2, 0, 0, 0, 0, 1, 0, 0, 0, 0, 1, 0, 0, 0, 0, 0, 0, 1, 0, 0, 6, 0, 0, 0, 0, 0, 0, 0, 0, 1, 0, 0, 0, 0, 0, 0, 0, 0, 0, 0, 0, 0, 0, 0, 0, 0, 0, 0, 0, 0, 1, 0, 0, 0, 0, 0, 1, 1, 0, 0, 0, 1, 0, 0, 0, 0, 0, 0, 0, 0, 0, 0, 0, 1, 0, 1, 0, 0, 0, 0, 0, 1, 0, 1, 0, 0, 0, 0, 0, 1, 2, 0, 1, 0, 0, 0, 0, 1, 0, 0, 2, 0, 0, 0, 0, 1, 0, 0]\n",
      "--------------------------------------------------\n"
     ]
    }
   ],
   "source": [
    "print(\"Vocabulario:\", vocabulario)\n",
    "\n",
    "for i, text in enumerate(tokenized_text):\n",
    "    print(f\"Texto original: {text}\")\n",
    "    print(f\"Vectorizado: {bag_of_words[i]}\")\n",
    "    print(\"-\" * 50)\n"
   ]
  },
  {
   "cell_type": "markdown",
   "metadata": {},
   "source": [
    "### Similitud del coseno\n",
    "Cada vector resultante, los cuales están almacenados en $vectorized\\_text$, son tranformados en tensores"
   ]
  },
  {
   "cell_type": "code",
   "execution_count": 21,
   "metadata": {},
   "outputs": [
    {
     "name": "stdout",
     "output_type": "stream",
     "text": [
      "tensor([[1.0000, 0.0432, 0.0000, 0.0766, 0.0964, 0.1353, 0.0624, 0.0148, 0.0000,\n",
      "         0.0487, 0.1427, 0.0865],\n",
      "        [0.0432, 1.0000, 0.0953, 0.0000, 0.0000, 0.1027, 0.1243, 0.0336, 0.0000,\n",
      "         0.1109, 0.1874, 0.1094],\n",
      "        [0.0000, 0.0953, 1.0000, 0.0000, 0.0000, 0.0331, 0.1032, 0.0163, 0.0000,\n",
      "         0.0895, 0.0000, 0.0530],\n",
      "        [0.0766, 0.0000, 0.0000, 1.0000, 0.0972, 0.0727, 0.0566, 0.1251, 0.2108,\n",
      "         0.0000, 0.1328, 0.2442],\n",
      "        [0.0964, 0.0000, 0.0000, 0.0972, 1.0000, 0.0573, 0.0000, 0.1876, 0.2029,\n",
      "         0.0412, 0.1115, 0.0610],\n",
      "        [0.1353, 0.1027, 0.0331, 0.0727, 0.0573, 1.0000, 0.1297, 0.0351, 0.0173,\n",
      "         0.0772, 0.1304, 0.1028],\n",
      "        [0.0624, 0.1243, 0.1032, 0.0566, 0.0000, 0.1297, 1.0000, 0.0182, 0.0000,\n",
      "         0.0600, 0.1895, 0.1540],\n",
      "        [0.0148, 0.0336, 0.0163, 0.1251, 0.1876, 0.0351, 0.0182, 1.0000, 0.0848,\n",
      "         0.0190, 0.0897, 0.0337],\n",
      "        [0.0000, 0.0000, 0.0000, 0.2108, 0.2029, 0.0173, 0.0000, 0.0848, 1.0000,\n",
      "         0.0373, 0.1638, 0.3199],\n",
      "        [0.0487, 0.1109, 0.0895, 0.0000, 0.0412, 0.0772, 0.0600, 0.0190, 0.0373,\n",
      "         1.0000, 0.0704, 0.0863],\n",
      "        [0.1427, 0.1874, 0.0000, 0.1328, 0.1115, 0.1304, 0.1895, 0.0897, 0.1638,\n",
      "         0.0704, 1.0000, 0.3002],\n",
      "        [0.0865, 0.1094, 0.0530, 0.2442, 0.0610, 0.1028, 0.1540, 0.0337, 0.3199,\n",
      "         0.0863, 0.3002, 1.0000]])\n"
     ]
    }
   ],
   "source": [
    "import torch\n",
    "\n",
    "tensor = torch.tensor(bag_of_words)\n",
    "tensor = tensor.float()\n",
    "\n",
    "comparacion = torch.zeros(len(tensor), len(tensor))\n",
    "\n",
    "for i in range(len(tensor)):\n",
    "    for j in range(len(tensor)):\n",
    "        cosine = torch.cosine_similarity(tensor[i], tensor[j], dim=0, eps=1e-8)\n",
    "        comparacion[i][j] = cosine\n",
    "        \n",
    "print(comparacion)"
   ]
  },
  {
   "cell_type": "markdown",
   "metadata": {},
   "source": [
    "### Análisis y visualización"
   ]
  },
  {
   "cell_type": "code",
   "execution_count": 22,
   "metadata": {},
   "outputs": [
    {
     "data": {
      "image/png": "[encoded data removed]",
      "text/plain": [
       "<Figure size 640x480 with 2 Axes>"
      ]
     },
     "metadata": {},
     "output_type": "display_data"
    }
   ],
   "source": [
    "import matplotlib.pyplot as plt\n",
    "\n",
    "plt.imshow(comparacion, cmap='hot', interpolation='nearest', vmin=-1, vmax=1)\n",
    "plt.title(\"Matriz de similitud de coseno\")\n",
    "plt.xticks(ticks=range(len(tensor)), labels=range(1, len(tensor) + 1))\n",
    "plt.yticks(ticks=range(len(tensor)), labels=range(1, len(tensor) + 1)) \n",
    "plt.colorbar()\n",
    "plt.show()"
   ]
  },
  {
   "cell_type": "code",
   "execution_count": 23,
   "metadata": {},
   "outputs": [
    {
     "name": "stdout",
     "output_type": "stream",
     "text": [
      "Texto 9 y texto 12 son similares\n",
      "Texto 11 y texto 12 son similares\n"
     ]
    }
   ],
   "source": [
    "for i in range(len(comparacion)):\n",
    "    for j in range(len(comparacion)):\n",
    "        if comparacion[i][j] > 0.3 and i != j:\n",
    "            if i < j:\n",
    "                print(f\"Texto {i + 1} y texto {j + 1} son similares\")\n"
   ]
  },
  {
   "cell_type": "code",
   "execution_count": 24,
   "metadata": {},
   "outputs": [
    {
     "name": "stdout",
     "output_type": "stream",
     "text": [
      "Texto 1 y texto 3 no son similares\n",
      "Texto 1 y texto 9 no son similares\n",
      "Texto 2 y texto 4 no son similares\n",
      "Texto 2 y texto 5 no son similares\n",
      "Texto 2 y texto 9 no son similares\n",
      "Texto 3 y texto 4 no son similares\n",
      "Texto 3 y texto 5 no son similares\n",
      "Texto 3 y texto 9 no son similares\n",
      "Texto 3 y texto 11 no son similares\n",
      "Texto 4 y texto 10 no son similares\n",
      "Texto 5 y texto 7 no son similares\n",
      "Texto 7 y texto 9 no son similares\n"
     ]
    }
   ],
   "source": [
    "for i in range(len(comparacion)):\n",
    "    for j in range(len(comparacion)):\n",
    "        if comparacion[i][j] == 0 and i != j:\n",
    "            if i < j:\n",
    "                print(f\"Texto {i + 1} y texto {j + 1} no son similares\")\n"
   ]
  },
  {
   "cell_type": "markdown",
   "metadata": {},
   "source": [
    "### TF-IDF \n",
    "- TF: Representa las frecuencias de las palabras en cada documento.\n",
    "- IDF: Calcula la importancia de cada palabra basada en la cantidad de documentos en los que aparece.\n",
    "- TF-IDF: Multiplica los valores de TF por los de IDF para cada término."
   ]
  },
  {
   "cell_type": "code",
   "execution_count": 68,
   "metadata": {},
   "outputs": [
    {
     "name": "stdout",
     "output_type": "stream",
     "text": [
      "TF-IDF: [[0.04073617 0.04073617 0.         ... 0.         0.         0.        ]\n",
      " [0.         0.         0.         ... 0.         0.         0.        ]\n",
      " [0.         0.         0.         ... 0.         0.         0.        ]\n",
      " ...\n",
      " [0.         0.         0.         ... 0.         0.         0.        ]\n",
      " [0.         0.         0.         ... 0.         0.         0.        ]\n",
      " [0.         0.         0.         ... 0.02993863 0.         0.        ]]\n"
     ]
    }
   ],
   "source": [
    "import numpy as np\n",
    "\n",
    "bag_of_words = np.array(bag_of_words)\n",
    "words_per_document = np.sum(bag_of_words, axis=1, keepdims=True)\n",
    "\n",
    "tf = bag_of_words / words_per_document # Term Frequency\n",
    "\n",
    "N = len(bag_of_words)\n",
    "n_docs = np.sum((bag_of_words > 0), axis=0) # Número de documentos en los que aparece cada palabra\n",
    "\n",
    "idf = np.log(N / n_docs) # Inverse Document Frequency\n",
    "\n",
    "tf_idf = tf * idf\n",
    "\n",
    "print(\"TF-IDF:\", tf_idf)\n",
    "        "
   ]
  },
  {
   "cell_type": "code",
   "execution_count": null,
   "metadata": {},
   "outputs": [],
   "source": [
    "# Visualización de la matriz TF-IDF"
   ]
  }
 ],
 "metadata": {
  "kernelspec": {
   "display_name": "Python 3",
   "language": "python",
   "name": "python3"
  },
  "language_info": {
   "codemirror_mode": {
    "name": "ipython",
    "version": 3
   },
   "file_extension": ".py",
   "mimetype": "text/x-python",
   "name": "python",
   "nbconvert_exporter": "python",
   "pygments_lexer": "ipython3",
   "version": "3.10.9"
  }
 },
 "nbformat": 4,
 "nbformat_minor": 2
}
