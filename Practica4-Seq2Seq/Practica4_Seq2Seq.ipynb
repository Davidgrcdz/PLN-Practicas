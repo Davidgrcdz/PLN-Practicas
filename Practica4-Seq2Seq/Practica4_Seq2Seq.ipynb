{
  "cells": [
    {
      "cell_type": "markdown",
      "metadata": {
        "id": "d-n56KG5Yg76"
      },
      "source": [
        "<br>\n",
        "<br>\n",
        "\n",
        "# **Modelos del lenguaje basados en redes neuronales artificiales**"
      ]
    },
    {
      "cell_type": "markdown",
      "metadata": {
        "id": "U9uH5jK8Yg79"
      },
      "source": [
        "## **Modelos seq2seq 2**\n",
        "\n",
        "Cuando la entrada de cada paso del decodificador proviene de la salida del paso anterior, estamos hablando de un modelo Seq2Seq con realimentación (feedback). Esto es especialmente común en tareas como la generación de texto.\n",
        "\n",
        "1. **Inicio de la Secuencia**: Se inicia la generación con un token especial, como `<SOS>` (Start of Sequence).\n",
        "\n",
        "2. **Generación Paso a Paso**:\n",
        "   - En el primer paso, el decodificador recibe el `<SOS>` y el estado del codificador como entrada.\n",
        "   - El decodificador procesa esta entrada y genera una salida para este paso.\n",
        "   - La salida generada se convierte en la entrada para el siguiente paso, junto con el estado actualizado del decodificador.\n",
        "   - Este proceso se repite hasta que se genera un token especial de fin de secuencia (`<EOS>`, End of Sequence) o hasta alcanzar un límite máximo de longitud.\n",
        "\n",
        "3. **Ventajas y Desventajas**:\n",
        "   - **Ventajas**: Esta forma de generar secuencias puede ayudar a mantener la coherencia en las secuencias generadas, ya que cada nueva palabra o token tiene en cuenta lo que ya se ha generado.\n",
        "   - **Desventajas**: Puede ser más lento, ya que cada paso depende del anterior, y errores en un paso pueden propagarse y afectar los pasos siguientes.\n",
        "\n",
        "\n",
        "Imagina que tienes un modelo seq2seq entrenado para traducir inglés a español. Para la frase \"How are you?\", el proceso sería algo así:\n",
        "\n",
        "1. El codificador procesa \"How are you?\" y genera un vector latente.\n",
        "2. El decodificador recibe el vector latente y el token `<SOS>`.\n",
        "3. El decodificador genera \"¿Cómo\", actualiza su estado y toma \"¿Cómo\" como entrada para el siguiente paso.\n",
        "4. El decodificador genera \"estás\", actualiza su estado y toma \"estás\" como entrada para el siguiente paso.\n",
        "5. Y así sucesivamente, hasta generar `<EOS>` para indicar el final de la secuencia.\n",
        "\n",
        "Este modelo de generación permite que el decodificador tenga en cuenta no solo el contexto proporcionado por el codificador, sino también la estructura de la secuencia que está generando, paso a paso.\n",
        "\n",
        "\n",
        "<p align=\"center\">\n",
        "<img src=\"imgs/seq2seq_feedback.svg\" width=\"70%\">\n",
        "</p>\n",
        "\n",
        "\n",
        "### **Teacher Forcing**\n",
        "\n",
        "**Teacher forcing** es una técnica utilizada en el entrenamiento de modelos seq2seq en la que, en un porcentaje de las veces, se utiliza la salida real (etiqueta) de un paso de tiempo como entrada para el siguiente paso, en lugar de la salida predicha por el modelo. Esta técnica puede ayudar a acelerar la convergencia y mejorar el rendimiento del modelo, especialmente en las etapas iniciales del entrenamiento.\n",
        "\n",
        "#### **¿Cómo funciona?**\n",
        "\n",
        "1. **Durante el Entrenamiento**: En cada paso de tiempo y con una cierta probabilidad de que suceda, en lugar de pasar la predicción del modelo del paso anterior como entrada al siguiente paso, se pasa la palabra real de la secuencia objetivo. Esto proporciona al modelo información directa y clara sobre cómo debería haber respondido en el paso anterior, independientemente de si la predicción fue correcta o no.\n",
        "\n",
        "2. **Durante la Evaluación/Predicción**: El modelo debe generar secuencias por sí mismo, utilizando sus propias predicciones del paso anterior para el siguiente paso. Durante esta fase, no se utiliza \"teacher forcing\".\n",
        "\n",
        "#### **Ventajas de Teacher Forcing:**\n",
        "\n",
        "1. **Aprendizaje más Rápido**: Al proporcionar al modelo la respuesta correcta en cada paso, se reduce la propagación de errores a través de la secuencia, lo que puede llevar a un aprendizaje más rápido.\n",
        "\n",
        "2. **Mejor Rendimiento**: Puede resultar en un mejor rendimiento del modelo, especialmente en las primeras etapas del entrenamiento."
      ]
    },
    {
      "cell_type": "markdown",
      "metadata": {
        "id": "EmceTEWZYg7_"
      },
      "source": [
        "### **Implementación traductor inglés a español**\n",
        "\n",
        "#### **Dataset Europarl**\n",
        "\n",
        "El conjunto de datos Europarl contiene las transcripciones de los procedimientos del Parlamento Europeo, proporcionando una valiosa fuente de textos paralelos en 21 idiomas europeos. Las oraciones están alineadas entre los idiomas, lo que lo hace especialmente útil para tareas de traducción automática.\n",
        "\n",
        "Descargamos el dataset Europarl para español-inglés. Una vez descargado tendremos dos ficheros de texto, uno para cada idioma con las frases alineadas. El código siguiente muestra las primeras frases de cada fichero."
      ]
    },
    {
      "cell_type": "code",
      "source": [
        "!pip uninstall torch torchtext -y\n",
        "!pip install torch==2.0.1 torchtext==0.15.2 --index-url https://download.pytorch.org/whl/cu118\n",
        "!pip install portalocker>=2.0.0"
      ],
      "metadata": {
        "colab": {
          "base_uri": "https://localhost:8080/"
        },
        "id": "Y7hecjsUZ4fj",
        "outputId": "9cdf0d66-ad5a-43f1-8c87-2123b9c30a34"
      },
      "execution_count": 2,
      "outputs": [
        {
          "output_type": "stream",
          "name": "stdout",
          "text": [
            "Found existing installation: torch 2.5.1+cpu\n",
            "Uninstalling torch-2.5.1+cpu:\n",
            "  Successfully uninstalled torch-2.5.1+cpu\n",
            "\u001b[33mWARNING: Skipping torchtext as it is not installed.\u001b[0m\u001b[33m\n",
            "\u001b[0mLooking in indexes: https://download.pytorch.org/whl/cu118\n",
            "Collecting torch==2.0.1\n",
            "  Downloading https://download.pytorch.org/whl/cu118/torch-2.0.1%2Bcu118-cp311-cp311-linux_x86_64.whl (2267.3 MB)\n",
            "\u001b[2K     \u001b[90m━━━━━━━━━━━━━━━━━━━━━━━━━━━━━━━━━━━━━━━━\u001b[0m \u001b[32m2.3/2.3 GB\u001b[0m \u001b[31m?\u001b[0m eta \u001b[36m0:00:00\u001b[0m\n",
            "\u001b[?25hCollecting torchtext==0.15.2\n",
            "  Downloading https://download.pytorch.org/whl/torchtext-0.15.2%2Bcpu-cp311-cp311-linux_x86_64.whl (2.0 MB)\n",
            "\u001b[2K     \u001b[90m━━━━━━━━━━━━━━━━━━━━━━━━━━━━━━━━━━━━━━━━\u001b[0m \u001b[32m2.0/2.0 MB\u001b[0m \u001b[31m78.0 MB/s\u001b[0m eta \u001b[36m0:00:00\u001b[0m\n",
            "\u001b[?25hRequirement already satisfied: filelock in /usr/local/lib/python3.11/dist-packages (from torch==2.0.1) (3.16.1)\n",
            "Requirement already satisfied: typing-extensions in /usr/local/lib/python3.11/dist-packages (from torch==2.0.1) (4.12.2)\n",
            "Requirement already satisfied: sympy in /usr/local/lib/python3.11/dist-packages (from torch==2.0.1) (1.13.1)\n",
            "Requirement already satisfied: networkx in /usr/local/lib/python3.11/dist-packages (from torch==2.0.1) (3.4.2)\n",
            "Requirement already satisfied: jinja2 in /usr/local/lib/python3.11/dist-packages (from torch==2.0.1) (3.1.5)\n",
            "Collecting triton==2.0.0 (from torch==2.0.1)\n",
            "  Downloading https://download.pytorch.org/whl/triton-2.0.0-1-cp311-cp311-manylinux2014_x86_64.manylinux_2_17_x86_64.whl (63.3 MB)\n",
            "\u001b[2K     \u001b[90m━━━━━━━━━━━━━━━━━━━━━━━━━━━━━━━━━━━━━━━━\u001b[0m \u001b[32m63.3/63.3 MB\u001b[0m \u001b[31m18.8 MB/s\u001b[0m eta \u001b[36m0:00:00\u001b[0m\n",
            "\u001b[?25hRequirement already satisfied: tqdm in /usr/local/lib/python3.11/dist-packages (from torchtext==0.15.2) (4.67.1)\n",
            "Requirement already satisfied: requests in /usr/local/lib/python3.11/dist-packages (from torchtext==0.15.2) (2.32.3)\n",
            "Requirement already satisfied: numpy in /usr/local/lib/python3.11/dist-packages (from torchtext==0.15.2) (1.26.4)\n",
            "Collecting torchdata==0.6.1 (from torchtext==0.15.2)\n",
            "  Downloading https://download.pytorch.org/whl/torchdata-0.6.1-cp311-cp311-manylinux_2_17_x86_64.manylinux2014_x86_64.whl (4.6 MB)\n",
            "\u001b[2K     \u001b[90m━━━━━━━━━━━━━━━━━━━━━━━━━━━━━━━━━━━━━━━━\u001b[0m \u001b[32m4.6/4.6 MB\u001b[0m \u001b[31m91.8 MB/s\u001b[0m eta \u001b[36m0:00:00\u001b[0m\n",
            "\u001b[?25hRequirement already satisfied: urllib3>=1.25 in /usr/local/lib/python3.11/dist-packages (from torchdata==0.6.1->torchtext==0.15.2) (2.3.0)\n",
            "Collecting cmake (from triton==2.0.0->torch==2.0.1)\n",
            "  Downloading https://download.pytorch.org/whl/cmake-3.25.0-py2.py3-none-manylinux_2_17_x86_64.manylinux2014_x86_64.whl (23.7 MB)\n",
            "\u001b[2K     \u001b[90m━━━━━━━━━━━━━━━━━━━━━━━━━━━━━━━━━━━━━━━━\u001b[0m \u001b[32m23.7/23.7 MB\u001b[0m \u001b[31m73.5 MB/s\u001b[0m eta \u001b[36m0:00:00\u001b[0m\n",
            "\u001b[?25hCollecting lit (from triton==2.0.0->torch==2.0.1)\n",
            "  Downloading https://download.pytorch.org/whl/lit-15.0.7.tar.gz (132 kB)\n",
            "\u001b[2K     \u001b[90m━━━━━━━━━━━━━━━━━━━━━━━━━━━━━━━━━━━━━━━━\u001b[0m \u001b[32m132.3/132.3 kB\u001b[0m \u001b[31m9.5 MB/s\u001b[0m eta \u001b[36m0:00:00\u001b[0m\n",
            "\u001b[?25h  Preparing metadata (setup.py) ... \u001b[?25l\u001b[?25hdone\n",
            "Requirement already satisfied: MarkupSafe>=2.0 in /usr/local/lib/python3.11/dist-packages (from jinja2->torch==2.0.1) (3.0.2)\n",
            "Requirement already satisfied: charset-normalizer<4,>=2 in /usr/local/lib/python3.11/dist-packages (from requests->torchtext==0.15.2) (3.4.1)\n",
            "Requirement already satisfied: idna<4,>=2.5 in /usr/local/lib/python3.11/dist-packages (from requests->torchtext==0.15.2) (3.10)\n",
            "Requirement already satisfied: certifi>=2017.4.17 in /usr/local/lib/python3.11/dist-packages (from requests->torchtext==0.15.2) (2024.12.14)\n",
            "Requirement already satisfied: mpmath<1.4,>=1.1.0 in /usr/local/lib/python3.11/dist-packages (from sympy->torch==2.0.1) (1.3.0)\n",
            "Building wheels for collected packages: lit\n",
            "  Building wheel for lit (setup.py) ... \u001b[?25l\u001b[?25hdone\n",
            "  Created wheel for lit: filename=lit-15.0.7-py3-none-any.whl size=89991 sha256=221e2675b738ff65024efe86c611f27956104900ea40ecb2b40c1e62d91cac46\n",
            "  Stored in directory: /root/.cache/pip/wheels/fc/5d/45/34fe9945d5e45e261134e72284395be36c2d4828af38e2b0fe\n",
            "Successfully built lit\n",
            "Installing collected packages: lit, cmake, triton, torch, torchdata, torchtext\n",
            "\u001b[31mERROR: pip's dependency resolver does not currently take into account all the packages that are installed. This behaviour is the source of the following dependency conflicts.\n",
            "torchaudio 2.5.1+cpu requires torch==2.5.1, but you have torch 2.0.1+cu118 which is incompatible.\n",
            "torchvision 0.20.1+cpu requires torch==2.5.1, but you have torch 2.0.1+cu118 which is incompatible.\u001b[0m\u001b[31m\n",
            "\u001b[0mSuccessfully installed cmake-3.25.0 lit-15.0.7 torch-2.0.1+cu118 torchdata-0.6.1 torchtext-0.15.2+cpu triton-2.0.0\n"
          ]
        }
      ]
    },
    {
      "cell_type": "code",
      "source": [
        "from google.colab import drive\n",
        "drive.mount('/content/drive')"
      ],
      "metadata": {
        "colab": {
          "base_uri": "https://localhost:8080/"
        },
        "id": "uXbBCY5lrKce",
        "outputId": "b7ecb1c4-a104-47da-f719-e11fe8ea4639"
      },
      "execution_count": 3,
      "outputs": [
        {
          "output_type": "stream",
          "name": "stdout",
          "text": [
            "Mounted at /content/drive\n"
          ]
        }
      ]
    },
    {
      "cell_type": "code",
      "execution_count": 4,
      "metadata": {
        "id": "uhta5fD3Yg8B"
      },
      "outputs": [],
      "source": [
        "from torchtext.data.utils import get_tokenizer\n",
        "from torch.utils.data import Dataset\n",
        "from torch.nn.utils.rnn import pad_sequence\n",
        "import torchtext\n",
        "import torch\n",
        "from collections import defaultdict\n",
        "import random\n",
        "\n",
        "\n",
        "class Translation(Dataset):\n",
        "    def __init__(self, source_file, target_file):\n",
        "        self.ingles = []\n",
        "        self.espanol = []\n",
        "        self.tokenizer_es = get_tokenizer(\"spacy\", language=\"es_core_news_md\")\n",
        "        self.tokenizer_en = get_tokenizer(\"spacy\", language=\"en_core_web_md\")\n",
        "        self.vocab_es = torchtext.vocab.FastText(language='es', unk_init=torch.Tensor.normal_)  # <-- Mirar esto para ver si añadir el token <unk> al vocabulario\n",
        "        self.vocab_en = torchtext.vocab.FastText(language='en', unk_init=torch.Tensor.normal_)\n",
        "\n",
        "        self.vocab_en = self.add_sos_eos_unk_pad(self.vocab_en)\n",
        "        self.vocab_es = self.add_sos_eos_unk_pad(self.vocab_es)\n",
        "\n",
        "        self.archivo_ingles = source_file\n",
        "        self.archivo_espanol = target_file\n",
        "\n",
        "        # Leer el conjunto de datos\n",
        "        for ingles, espanol in self.read_translation():\n",
        "            self.ingles.append(ingles)\n",
        "            self.espanol.append(espanol)\n",
        "\n",
        "\n",
        "    def add_sos_eos_unk_pad(self, vocabulary):\n",
        "        words = vocabulary.itos\n",
        "        vocab = vocabulary.stoi\n",
        "        embedding_matrix = vocabulary.vectors\n",
        "\n",
        "        # Tokens especiales\n",
        "        sos_token = '<sos>'\n",
        "        eos_token = '<eos>'\n",
        "        pad_token = '<pad>'\n",
        "        unk_token = '<unk>'\n",
        "\n",
        "        # Inicializamos los vectores para los tokens especiales, por ejemplo, con ceros\n",
        "        sos_vector = torch.full((1, embedding_matrix.shape[1]), 1.)\n",
        "        eos_vector = torch.full((1, embedding_matrix.shape[1]), 2.)\n",
        "        pad_vector = torch.zeros((1, embedding_matrix.shape[1]))\n",
        "        unk_vector = torch.full((1, embedding_matrix.shape[1]), 3.)\n",
        "\n",
        "        # Añade los vectores al final de la matriz de embeddings\n",
        "        embedding_matrix = torch.cat((embedding_matrix, sos_vector, eos_vector, unk_vector, pad_vector), 0)\n",
        "\n",
        "        # Añade los tokens especiales al vocabulario\n",
        "        vocab[sos_token] = len(vocab)\n",
        "        vocab[eos_token] = len(vocab)\n",
        "        vocab[pad_token] = len(vocab)\n",
        "        vocab[unk_token] = len(vocab)\n",
        "\n",
        "        words.append(sos_token)\n",
        "        words.append(eos_token)\n",
        "        words.append(pad_token)\n",
        "        words.append(unk_token)\n",
        "\n",
        "        vocabulary.itos = words\n",
        "        vocabulary.stoi = vocab\n",
        "        vocabulary.vectors = embedding_matrix\n",
        "\n",
        "        default_stoi = defaultdict(lambda : len(vocabulary)-1, vocabulary.stoi)\n",
        "        vocabulary.stoi = default_stoi\n",
        "\n",
        "        return vocabulary\n",
        "\n",
        "\n",
        "    def read_translation(self):\n",
        "        with open(self.archivo_ingles, 'r', encoding='utf-8') as f_ingles, open(self.archivo_espanol, 'r', encoding='utf-8') as f_espanol:\n",
        "            for oracion_ingles, oracion_espanol in zip(f_ingles, f_espanol):\n",
        "                yield oracion_ingles.strip().lower(), oracion_espanol.strip().lower()\n",
        "\n",
        "    def __len__(self):\n",
        "        return len(self.ingles)\n",
        "\n",
        "    def __getitem__(self, idx):\n",
        "        item = self.ingles[idx], self.espanol[idx]\n",
        "        tokens_ingles = self.tokenizer_en(item[0])\n",
        "        tokens_espanol = self.tokenizer_es(item[1])\n",
        "\n",
        "        tokens_ingles = tokens_ingles + ['<eos>']\n",
        "        tokens_espanol = ['<sos>'] + tokens_espanol + ['<eos>']\n",
        "\n",
        "        if not tokens_ingles or not tokens_espanol:\n",
        "            return torch.zeros(1, 300), torch.zeros(1, 300)\n",
        "            # raise RuntimeError(\"Una de las muestras está vacía.\")\n",
        "\n",
        "        tensor_ingles = self.vocab_en.get_vecs_by_tokens(tokens_ingles)\n",
        "        tensor_espanol = self.vocab_es.get_vecs_by_tokens(tokens_espanol)\n",
        "\n",
        "        indices_ingles = [self.vocab_en.stoi[token] for token in tokens_ingles] + [self.vocab_en.stoi['<pad>']]\n",
        "        indices_espanol = [self.vocab_es.stoi[token] for token in tokens_espanol] + [self.vocab_es.stoi['<pad>']]\n",
        "\n",
        "        return tensor_ingles, tensor_espanol, indices_ingles, indices_espanol\n",
        "\n",
        "\n",
        "\n",
        "def collate_fn(batch):\n",
        "    ingles_batch, espanol_batch, ingles_seqs, espanol_seqs = zip(*batch)\n",
        "    ingles_batch = pad_sequence(ingles_batch, batch_first=True, padding_value=0)\n",
        "    espanol_batch = pad_sequence(espanol_batch, batch_first=True, padding_value=0)\n",
        "\n",
        "    # Calcular la longitud máxima de la lista de listas de índices\n",
        "    pad = espanol_seqs[0][-1]  # token <pad>\n",
        "    max_len = max([len(l) for l in espanol_seqs])\n",
        "    for seq in espanol_seqs:\n",
        "        seq += [pad]*(max_len-len(seq))\n",
        "\n",
        "    return ingles_batch, espanol_batch, ingles_seqs, espanol_seqs\n",
        "\n"
      ]
    },
    {
      "cell_type": "markdown",
      "source": [
        "#### Descarga de \"es_core_news_md\" y \"en_core_web_md\""
      ],
      "metadata": {
        "id": "_yBmbq24bPMu"
      }
    },
    {
      "cell_type": "code",
      "source": [
        "!python -m spacy download es_core_news_md\n",
        "!python -m spacy download en_core_web_md"
      ],
      "metadata": {
        "colab": {
          "base_uri": "https://localhost:8080/"
        },
        "id": "QNHKILhua-6n",
        "outputId": "c63b9c07-1d7d-4637-cfa9-32faf6c7ab93"
      },
      "execution_count": 5,
      "outputs": [
        {
          "output_type": "stream",
          "name": "stdout",
          "text": [
            "Collecting es-core-news-md==3.7.0\n",
            "  Downloading https://github.com/explosion/spacy-models/releases/download/es_core_news_md-3.7.0/es_core_news_md-3.7.0-py3-none-any.whl (42.3 MB)\n",
            "\u001b[2K     \u001b[90m━━━━━━━━━━━━━━━━━━━━━━━━━━━━━━━━━━━━━━━━\u001b[0m \u001b[32m42.3/42.3 MB\u001b[0m \u001b[31m32.4 MB/s\u001b[0m eta \u001b[36m0:00:00\u001b[0m\n",
            "\u001b[?25hRequirement already satisfied: spacy<3.8.0,>=3.7.0 in /usr/local/lib/python3.11/dist-packages (from es-core-news-md==3.7.0) (3.7.5)\n",
            "Requirement already satisfied: spacy-legacy<3.1.0,>=3.0.11 in /usr/local/lib/python3.11/dist-packages (from spacy<3.8.0,>=3.7.0->es-core-news-md==3.7.0) (3.0.12)\n",
            "Requirement already satisfied: spacy-loggers<2.0.0,>=1.0.0 in /usr/local/lib/python3.11/dist-packages (from spacy<3.8.0,>=3.7.0->es-core-news-md==3.7.0) (1.0.5)\n",
            "Requirement already satisfied: murmurhash<1.1.0,>=0.28.0 in /usr/local/lib/python3.11/dist-packages (from spacy<3.8.0,>=3.7.0->es-core-news-md==3.7.0) (1.0.11)\n",
            "Requirement already satisfied: cymem<2.1.0,>=2.0.2 in /usr/local/lib/python3.11/dist-packages (from spacy<3.8.0,>=3.7.0->es-core-news-md==3.7.0) (2.0.10)\n",
            "Requirement already satisfied: preshed<3.1.0,>=3.0.2 in /usr/local/lib/python3.11/dist-packages (from spacy<3.8.0,>=3.7.0->es-core-news-md==3.7.0) (3.0.9)\n",
            "Requirement already satisfied: thinc<8.3.0,>=8.2.2 in /usr/local/lib/python3.11/dist-packages (from spacy<3.8.0,>=3.7.0->es-core-news-md==3.7.0) (8.2.5)\n",
            "Requirement already satisfied: wasabi<1.2.0,>=0.9.1 in /usr/local/lib/python3.11/dist-packages (from spacy<3.8.0,>=3.7.0->es-core-news-md==3.7.0) (1.1.3)\n",
            "Requirement already satisfied: srsly<3.0.0,>=2.4.3 in /usr/local/lib/python3.11/dist-packages (from spacy<3.8.0,>=3.7.0->es-core-news-md==3.7.0) (2.5.0)\n",
            "Requirement already satisfied: catalogue<2.1.0,>=2.0.6 in /usr/local/lib/python3.11/dist-packages (from spacy<3.8.0,>=3.7.0->es-core-news-md==3.7.0) (2.0.10)\n",
            "Requirement already satisfied: weasel<0.5.0,>=0.1.0 in /usr/local/lib/python3.11/dist-packages (from spacy<3.8.0,>=3.7.0->es-core-news-md==3.7.0) (0.4.1)\n",
            "Requirement already satisfied: typer<1.0.0,>=0.3.0 in /usr/local/lib/python3.11/dist-packages (from spacy<3.8.0,>=3.7.0->es-core-news-md==3.7.0) (0.15.1)\n",
            "Requirement already satisfied: tqdm<5.0.0,>=4.38.0 in /usr/local/lib/python3.11/dist-packages (from spacy<3.8.0,>=3.7.0->es-core-news-md==3.7.0) (4.67.1)\n",
            "Requirement already satisfied: requests<3.0.0,>=2.13.0 in /usr/local/lib/python3.11/dist-packages (from spacy<3.8.0,>=3.7.0->es-core-news-md==3.7.0) (2.32.3)\n",
            "Requirement already satisfied: pydantic!=1.8,!=1.8.1,<3.0.0,>=1.7.4 in /usr/local/lib/python3.11/dist-packages (from spacy<3.8.0,>=3.7.0->es-core-news-md==3.7.0) (2.10.5)\n",
            "Requirement already satisfied: jinja2 in /usr/local/lib/python3.11/dist-packages (from spacy<3.8.0,>=3.7.0->es-core-news-md==3.7.0) (3.1.5)\n",
            "Requirement already satisfied: setuptools in /usr/local/lib/python3.11/dist-packages (from spacy<3.8.0,>=3.7.0->es-core-news-md==3.7.0) (75.1.0)\n",
            "Requirement already satisfied: packaging>=20.0 in /usr/local/lib/python3.11/dist-packages (from spacy<3.8.0,>=3.7.0->es-core-news-md==3.7.0) (24.2)\n",
            "Requirement already satisfied: langcodes<4.0.0,>=3.2.0 in /usr/local/lib/python3.11/dist-packages (from spacy<3.8.0,>=3.7.0->es-core-news-md==3.7.0) (3.5.0)\n",
            "Requirement already satisfied: numpy>=1.19.0 in /usr/local/lib/python3.11/dist-packages (from spacy<3.8.0,>=3.7.0->es-core-news-md==3.7.0) (1.26.4)\n",
            "Requirement already satisfied: language-data>=1.2 in /usr/local/lib/python3.11/dist-packages (from langcodes<4.0.0,>=3.2.0->spacy<3.8.0,>=3.7.0->es-core-news-md==3.7.0) (1.3.0)\n",
            "Requirement already satisfied: annotated-types>=0.6.0 in /usr/local/lib/python3.11/dist-packages (from pydantic!=1.8,!=1.8.1,<3.0.0,>=1.7.4->spacy<3.8.0,>=3.7.0->es-core-news-md==3.7.0) (0.7.0)\n",
            "Requirement already satisfied: pydantic-core==2.27.2 in /usr/local/lib/python3.11/dist-packages (from pydantic!=1.8,!=1.8.1,<3.0.0,>=1.7.4->spacy<3.8.0,>=3.7.0->es-core-news-md==3.7.0) (2.27.2)\n",
            "Requirement already satisfied: typing-extensions>=4.12.2 in /usr/local/lib/python3.11/dist-packages (from pydantic!=1.8,!=1.8.1,<3.0.0,>=1.7.4->spacy<3.8.0,>=3.7.0->es-core-news-md==3.7.0) (4.12.2)\n",
            "Requirement already satisfied: charset-normalizer<4,>=2 in /usr/local/lib/python3.11/dist-packages (from requests<3.0.0,>=2.13.0->spacy<3.8.0,>=3.7.0->es-core-news-md==3.7.0) (3.4.1)\n",
            "Requirement already satisfied: idna<4,>=2.5 in /usr/local/lib/python3.11/dist-packages (from requests<3.0.0,>=2.13.0->spacy<3.8.0,>=3.7.0->es-core-news-md==3.7.0) (3.10)\n",
            "Requirement already satisfied: urllib3<3,>=1.21.1 in /usr/local/lib/python3.11/dist-packages (from requests<3.0.0,>=2.13.0->spacy<3.8.0,>=3.7.0->es-core-news-md==3.7.0) (2.3.0)\n",
            "Requirement already satisfied: certifi>=2017.4.17 in /usr/local/lib/python3.11/dist-packages (from requests<3.0.0,>=2.13.0->spacy<3.8.0,>=3.7.0->es-core-news-md==3.7.0) (2024.12.14)\n",
            "Requirement already satisfied: blis<0.8.0,>=0.7.8 in /usr/local/lib/python3.11/dist-packages (from thinc<8.3.0,>=8.2.2->spacy<3.8.0,>=3.7.0->es-core-news-md==3.7.0) (0.7.11)\n",
            "Requirement already satisfied: confection<1.0.0,>=0.0.1 in /usr/local/lib/python3.11/dist-packages (from thinc<8.3.0,>=8.2.2->spacy<3.8.0,>=3.7.0->es-core-news-md==3.7.0) (0.1.5)\n",
            "Requirement already satisfied: click>=8.0.0 in /usr/local/lib/python3.11/dist-packages (from typer<1.0.0,>=0.3.0->spacy<3.8.0,>=3.7.0->es-core-news-md==3.7.0) (8.1.8)\n",
            "Requirement already satisfied: shellingham>=1.3.0 in /usr/local/lib/python3.11/dist-packages (from typer<1.0.0,>=0.3.0->spacy<3.8.0,>=3.7.0->es-core-news-md==3.7.0) (1.5.4)\n",
            "Requirement already satisfied: rich>=10.11.0 in /usr/local/lib/python3.11/dist-packages (from typer<1.0.0,>=0.3.0->spacy<3.8.0,>=3.7.0->es-core-news-md==3.7.0) (13.9.4)\n",
            "Requirement already satisfied: cloudpathlib<1.0.0,>=0.7.0 in /usr/local/lib/python3.11/dist-packages (from weasel<0.5.0,>=0.1.0->spacy<3.8.0,>=3.7.0->es-core-news-md==3.7.0) (0.20.0)\n",
            "Requirement already satisfied: smart-open<8.0.0,>=5.2.1 in /usr/local/lib/python3.11/dist-packages (from weasel<0.5.0,>=0.1.0->spacy<3.8.0,>=3.7.0->es-core-news-md==3.7.0) (7.1.0)\n",
            "Requirement already satisfied: MarkupSafe>=2.0 in /usr/local/lib/python3.11/dist-packages (from jinja2->spacy<3.8.0,>=3.7.0->es-core-news-md==3.7.0) (3.0.2)\n",
            "Requirement already satisfied: marisa-trie>=1.1.0 in /usr/local/lib/python3.11/dist-packages (from language-data>=1.2->langcodes<4.0.0,>=3.2.0->spacy<3.8.0,>=3.7.0->es-core-news-md==3.7.0) (1.2.1)\n",
            "Requirement already satisfied: markdown-it-py>=2.2.0 in /usr/local/lib/python3.11/dist-packages (from rich>=10.11.0->typer<1.0.0,>=0.3.0->spacy<3.8.0,>=3.7.0->es-core-news-md==3.7.0) (3.0.0)\n",
            "Requirement already satisfied: pygments<3.0.0,>=2.13.0 in /usr/local/lib/python3.11/dist-packages (from rich>=10.11.0->typer<1.0.0,>=0.3.0->spacy<3.8.0,>=3.7.0->es-core-news-md==3.7.0) (2.19.1)\n",
            "Requirement already satisfied: wrapt in /usr/local/lib/python3.11/dist-packages (from smart-open<8.0.0,>=5.2.1->weasel<0.5.0,>=0.1.0->spacy<3.8.0,>=3.7.0->es-core-news-md==3.7.0) (1.17.0)\n",
            "Requirement already satisfied: mdurl~=0.1 in /usr/local/lib/python3.11/dist-packages (from markdown-it-py>=2.2.0->rich>=10.11.0->typer<1.0.0,>=0.3.0->spacy<3.8.0,>=3.7.0->es-core-news-md==3.7.0) (0.1.2)\n",
            "Installing collected packages: es-core-news-md\n",
            "Successfully installed es-core-news-md-3.7.0\n",
            "\u001b[38;5;2m✔ Download and installation successful\u001b[0m\n",
            "You can now load the package via spacy.load('es_core_news_md')\n",
            "\u001b[38;5;3m⚠ Restart to reload dependencies\u001b[0m\n",
            "If you are in a Jupyter or Colab notebook, you may need to restart Python in\n",
            "order to load all the package's dependencies. You can do this by selecting the\n",
            "'Restart kernel' or 'Restart runtime' option.\n",
            "Collecting en-core-web-md==3.7.1\n",
            "  Downloading https://github.com/explosion/spacy-models/releases/download/en_core_web_md-3.7.1/en_core_web_md-3.7.1-py3-none-any.whl (42.8 MB)\n",
            "\u001b[2K     \u001b[90m━━━━━━━━━━━━━━━━━━━━━━━━━━━━━━━━━━━━━━━━\u001b[0m \u001b[32m42.8/42.8 MB\u001b[0m \u001b[31m30.9 MB/s\u001b[0m eta \u001b[36m0:00:00\u001b[0m\n",
            "\u001b[?25hRequirement already satisfied: spacy<3.8.0,>=3.7.2 in /usr/local/lib/python3.11/dist-packages (from en-core-web-md==3.7.1) (3.7.5)\n",
            "Requirement already satisfied: spacy-legacy<3.1.0,>=3.0.11 in /usr/local/lib/python3.11/dist-packages (from spacy<3.8.0,>=3.7.2->en-core-web-md==3.7.1) (3.0.12)\n",
            "Requirement already satisfied: spacy-loggers<2.0.0,>=1.0.0 in /usr/local/lib/python3.11/dist-packages (from spacy<3.8.0,>=3.7.2->en-core-web-md==3.7.1) (1.0.5)\n",
            "Requirement already satisfied: murmurhash<1.1.0,>=0.28.0 in /usr/local/lib/python3.11/dist-packages (from spacy<3.8.0,>=3.7.2->en-core-web-md==3.7.1) (1.0.11)\n",
            "Requirement already satisfied: cymem<2.1.0,>=2.0.2 in /usr/local/lib/python3.11/dist-packages (from spacy<3.8.0,>=3.7.2->en-core-web-md==3.7.1) (2.0.10)\n",
            "Requirement already satisfied: preshed<3.1.0,>=3.0.2 in /usr/local/lib/python3.11/dist-packages (from spacy<3.8.0,>=3.7.2->en-core-web-md==3.7.1) (3.0.9)\n",
            "Requirement already satisfied: thinc<8.3.0,>=8.2.2 in /usr/local/lib/python3.11/dist-packages (from spacy<3.8.0,>=3.7.2->en-core-web-md==3.7.1) (8.2.5)\n",
            "Requirement already satisfied: wasabi<1.2.0,>=0.9.1 in /usr/local/lib/python3.11/dist-packages (from spacy<3.8.0,>=3.7.2->en-core-web-md==3.7.1) (1.1.3)\n",
            "Requirement already satisfied: srsly<3.0.0,>=2.4.3 in /usr/local/lib/python3.11/dist-packages (from spacy<3.8.0,>=3.7.2->en-core-web-md==3.7.1) (2.5.0)\n",
            "Requirement already satisfied: catalogue<2.1.0,>=2.0.6 in /usr/local/lib/python3.11/dist-packages (from spacy<3.8.0,>=3.7.2->en-core-web-md==3.7.1) (2.0.10)\n",
            "Requirement already satisfied: weasel<0.5.0,>=0.1.0 in /usr/local/lib/python3.11/dist-packages (from spacy<3.8.0,>=3.7.2->en-core-web-md==3.7.1) (0.4.1)\n",
            "Requirement already satisfied: typer<1.0.0,>=0.3.0 in /usr/local/lib/python3.11/dist-packages (from spacy<3.8.0,>=3.7.2->en-core-web-md==3.7.1) (0.15.1)\n",
            "Requirement already satisfied: tqdm<5.0.0,>=4.38.0 in /usr/local/lib/python3.11/dist-packages (from spacy<3.8.0,>=3.7.2->en-core-web-md==3.7.1) (4.67.1)\n",
            "Requirement already satisfied: requests<3.0.0,>=2.13.0 in /usr/local/lib/python3.11/dist-packages (from spacy<3.8.0,>=3.7.2->en-core-web-md==3.7.1) (2.32.3)\n",
            "Requirement already satisfied: pydantic!=1.8,!=1.8.1,<3.0.0,>=1.7.4 in /usr/local/lib/python3.11/dist-packages (from spacy<3.8.0,>=3.7.2->en-core-web-md==3.7.1) (2.10.5)\n",
            "Requirement already satisfied: jinja2 in /usr/local/lib/python3.11/dist-packages (from spacy<3.8.0,>=3.7.2->en-core-web-md==3.7.1) (3.1.5)\n",
            "Requirement already satisfied: setuptools in /usr/local/lib/python3.11/dist-packages (from spacy<3.8.0,>=3.7.2->en-core-web-md==3.7.1) (75.1.0)\n",
            "Requirement already satisfied: packaging>=20.0 in /usr/local/lib/python3.11/dist-packages (from spacy<3.8.0,>=3.7.2->en-core-web-md==3.7.1) (24.2)\n",
            "Requirement already satisfied: langcodes<4.0.0,>=3.2.0 in /usr/local/lib/python3.11/dist-packages (from spacy<3.8.0,>=3.7.2->en-core-web-md==3.7.1) (3.5.0)\n",
            "Requirement already satisfied: numpy>=1.19.0 in /usr/local/lib/python3.11/dist-packages (from spacy<3.8.0,>=3.7.2->en-core-web-md==3.7.1) (1.26.4)\n",
            "Requirement already satisfied: language-data>=1.2 in /usr/local/lib/python3.11/dist-packages (from langcodes<4.0.0,>=3.2.0->spacy<3.8.0,>=3.7.2->en-core-web-md==3.7.1) (1.3.0)\n",
            "Requirement already satisfied: annotated-types>=0.6.0 in /usr/local/lib/python3.11/dist-packages (from pydantic!=1.8,!=1.8.1,<3.0.0,>=1.7.4->spacy<3.8.0,>=3.7.2->en-core-web-md==3.7.1) (0.7.0)\n",
            "Requirement already satisfied: pydantic-core==2.27.2 in /usr/local/lib/python3.11/dist-packages (from pydantic!=1.8,!=1.8.1,<3.0.0,>=1.7.4->spacy<3.8.0,>=3.7.2->en-core-web-md==3.7.1) (2.27.2)\n",
            "Requirement already satisfied: typing-extensions>=4.12.2 in /usr/local/lib/python3.11/dist-packages (from pydantic!=1.8,!=1.8.1,<3.0.0,>=1.7.4->spacy<3.8.0,>=3.7.2->en-core-web-md==3.7.1) (4.12.2)\n",
            "Requirement already satisfied: charset-normalizer<4,>=2 in /usr/local/lib/python3.11/dist-packages (from requests<3.0.0,>=2.13.0->spacy<3.8.0,>=3.7.2->en-core-web-md==3.7.1) (3.4.1)\n",
            "Requirement already satisfied: idna<4,>=2.5 in /usr/local/lib/python3.11/dist-packages (from requests<3.0.0,>=2.13.0->spacy<3.8.0,>=3.7.2->en-core-web-md==3.7.1) (3.10)\n",
            "Requirement already satisfied: urllib3<3,>=1.21.1 in /usr/local/lib/python3.11/dist-packages (from requests<3.0.0,>=2.13.0->spacy<3.8.0,>=3.7.2->en-core-web-md==3.7.1) (2.3.0)\n",
            "Requirement already satisfied: certifi>=2017.4.17 in /usr/local/lib/python3.11/dist-packages (from requests<3.0.0,>=2.13.0->spacy<3.8.0,>=3.7.2->en-core-web-md==3.7.1) (2024.12.14)\n",
            "Requirement already satisfied: blis<0.8.0,>=0.7.8 in /usr/local/lib/python3.11/dist-packages (from thinc<8.3.0,>=8.2.2->spacy<3.8.0,>=3.7.2->en-core-web-md==3.7.1) (0.7.11)\n",
            "Requirement already satisfied: confection<1.0.0,>=0.0.1 in /usr/local/lib/python3.11/dist-packages (from thinc<8.3.0,>=8.2.2->spacy<3.8.0,>=3.7.2->en-core-web-md==3.7.1) (0.1.5)\n",
            "Requirement already satisfied: click>=8.0.0 in /usr/local/lib/python3.11/dist-packages (from typer<1.0.0,>=0.3.0->spacy<3.8.0,>=3.7.2->en-core-web-md==3.7.1) (8.1.8)\n",
            "Requirement already satisfied: shellingham>=1.3.0 in /usr/local/lib/python3.11/dist-packages (from typer<1.0.0,>=0.3.0->spacy<3.8.0,>=3.7.2->en-core-web-md==3.7.1) (1.5.4)\n",
            "Requirement already satisfied: rich>=10.11.0 in /usr/local/lib/python3.11/dist-packages (from typer<1.0.0,>=0.3.0->spacy<3.8.0,>=3.7.2->en-core-web-md==3.7.1) (13.9.4)\n",
            "Requirement already satisfied: cloudpathlib<1.0.0,>=0.7.0 in /usr/local/lib/python3.11/dist-packages (from weasel<0.5.0,>=0.1.0->spacy<3.8.0,>=3.7.2->en-core-web-md==3.7.1) (0.20.0)\n",
            "Requirement already satisfied: smart-open<8.0.0,>=5.2.1 in /usr/local/lib/python3.11/dist-packages (from weasel<0.5.0,>=0.1.0->spacy<3.8.0,>=3.7.2->en-core-web-md==3.7.1) (7.1.0)\n",
            "Requirement already satisfied: MarkupSafe>=2.0 in /usr/local/lib/python3.11/dist-packages (from jinja2->spacy<3.8.0,>=3.7.2->en-core-web-md==3.7.1) (3.0.2)\n",
            "Requirement already satisfied: marisa-trie>=1.1.0 in /usr/local/lib/python3.11/dist-packages (from language-data>=1.2->langcodes<4.0.0,>=3.2.0->spacy<3.8.0,>=3.7.2->en-core-web-md==3.7.1) (1.2.1)\n",
            "Requirement already satisfied: markdown-it-py>=2.2.0 in /usr/local/lib/python3.11/dist-packages (from rich>=10.11.0->typer<1.0.0,>=0.3.0->spacy<3.8.0,>=3.7.2->en-core-web-md==3.7.1) (3.0.0)\n",
            "Requirement already satisfied: pygments<3.0.0,>=2.13.0 in /usr/local/lib/python3.11/dist-packages (from rich>=10.11.0->typer<1.0.0,>=0.3.0->spacy<3.8.0,>=3.7.2->en-core-web-md==3.7.1) (2.19.1)\n",
            "Requirement already satisfied: wrapt in /usr/local/lib/python3.11/dist-packages (from smart-open<8.0.0,>=5.2.1->weasel<0.5.0,>=0.1.0->spacy<3.8.0,>=3.7.2->en-core-web-md==3.7.1) (1.17.0)\n",
            "Requirement already satisfied: mdurl~=0.1 in /usr/local/lib/python3.11/dist-packages (from markdown-it-py>=2.2.0->rich>=10.11.0->typer<1.0.0,>=0.3.0->spacy<3.8.0,>=3.7.2->en-core-web-md==3.7.1) (0.1.2)\n",
            "Installing collected packages: en-core-web-md\n",
            "Successfully installed en-core-web-md-3.7.1\n",
            "\u001b[38;5;2m✔ Download and installation successful\u001b[0m\n",
            "You can now load the package via spacy.load('en_core_web_md')\n",
            "\u001b[38;5;3m⚠ Restart to reload dependencies\u001b[0m\n",
            "If you are in a Jupyter or Colab notebook, you may need to restart Python in\n",
            "order to load all the package's dependencies. You can do this by selecting the\n",
            "'Restart kernel' or 'Restart runtime' option.\n"
          ]
        }
      ]
    },
    {
      "cell_type": "code",
      "execution_count": 6,
      "metadata": {
        "colab": {
          "base_uri": "https://localhost:8080/"
        },
        "id": "tUV1PL3SYg8C",
        "outputId": "ee960b91-1a94-40ef-8752-a584abcf1187"
      },
      "outputs": [
        {
          "output_type": "stream",
          "name": "stderr",
          "text": [
            ".vector_cache/wiki.es.vec: 2.59GB [00:08, 323MB/s]                            \n",
            "  0%|          | 0/985667 [00:00<?, ?it/s]WARNING:torchtext.vocab.vectors:Skipping token b'985667' with 1-dimensional vector [b'300']; likely a header\n",
            "100%|██████████| 985667/985667 [01:45<00:00, 9368.46it/s]\n",
            ".vector_cache/wiki.en.vec: 6.60GB [02:19, 47.2MB/s]                            \n",
            "  0%|          | 0/2519370 [00:00<?, ?it/s]WARNING:torchtext.vocab.vectors:Skipping token b'2519370' with 1-dimensional vector [b'300']; likely a header\n",
            "100%|██████████| 2519370/2519370 [04:25<00:00, 9485.39it/s]\n"
          ]
        }
      ],
      "source": [
        "archivo_ingles = '/content/drive/MyDrive/PLN/Seq2Seq_Attention/data/mock.en'\n",
        "archivo_espanol = '/content/drive/MyDrive/PLN/Seq2Seq_Attention/data//mock.es'\n",
        "\n",
        "translation = Translation(archivo_ingles, archivo_espanol)"
      ]
    },
    {
      "cell_type": "markdown",
      "metadata": {
        "id": "7pKD-K8wYg8C"
      },
      "source": [
        "### **Modelo**"
      ]
    },
    {
      "cell_type": "code",
      "execution_count": 7,
      "metadata": {
        "id": "meiiXOggYg8C"
      },
      "outputs": [],
      "source": [
        "import torch\n",
        "import torch.nn as nn\n",
        "import torch.optim as optim"
      ]
    },
    {
      "cell_type": "markdown",
      "metadata": {
        "id": "RgOOjjBWYg8D"
      },
      "source": [
        "##### **Encoder**"
      ]
    },
    {
      "cell_type": "code",
      "source": [
        "class Encoder(nn.Module):\n",
        "    def __init__(self, input_dim, hidden_dim, num_layers, decoder_hidden_dim=None):\n",
        "        super().__init__()\n",
        "        self.rnn = nn.LSTM(input_dim, hidden_dim, num_layers, batch_first=True)\n",
        "        if decoder_hidden_dim and hidden_dim != decoder_hidden_dim:\n",
        "            self.fc_hidden = nn.Linear(hidden_dim, decoder_hidden_dim)\n",
        "            self.fc_cell = nn.Linear(hidden_dim, decoder_hidden_dim)\n",
        "        else:\n",
        "            self.fc_hidden = self.fc_cell = None\n",
        "\n",
        "    def forward(self, x):\n",
        "        output, (hidden, cell) = self.rnn(x)\n",
        "        if self.fc_hidden:\n",
        "            hidden = self.fc_hidden(hidden)\n",
        "            cell = self.fc_cell(cell)\n",
        "        return output, (hidden, cell)\n"
      ],
      "metadata": {
        "id": "X5AbPf-h91rp"
      },
      "execution_count": 8,
      "outputs": []
    },
    {
      "cell_type": "markdown",
      "source": [
        "**Atención de Luong**"
      ],
      "metadata": {
        "id": "aM0G0Csh6P_2"
      }
    },
    {
      "cell_type": "code",
      "source": [
        "class LuongAttention(nn.Module):\n",
        "    def __init__(self, encoder_hidden_dim, decoder_hidden_dim):\n",
        "        super(LuongAttention, self).__init__()\n",
        "        self.attn = nn.Linear(encoder_hidden_dim + decoder_hidden_dim, decoder_hidden_dim)\n",
        "        self.v = nn.Parameter(torch.rand(decoder_hidden_dim))\n",
        "\n",
        "    def forward(self, hidden, encoder_outputs):\n",
        "        # hidden: [batch_size, decoder_hidden_dim]\n",
        "        # encoder_outputs: [batch_size, seq_len, encoder_hidden_dim]\n",
        "        seq_len = encoder_outputs.size(1)\n",
        "\n",
        "        # Transformar dimensiones si no coinciden\n",
        "        hidden = hidden.unsqueeze(1).repeat(1, seq_len, 1)  # [batch_size, seq_len, decoder_hidden_dim]\n",
        "        energy = torch.tanh(self.attn(torch.cat((hidden, encoder_outputs), dim=2)))  # [batch_size, seq_len, decoder_hidden_dim]\n",
        "        energy = energy.permute(0, 2, 1)  # [batch_size, decoder_hidden_dim, seq_len]\n",
        "        v = self.v.repeat(encoder_outputs.size(0), 1).unsqueeze(1)  # [batch_size, 1, decoder_hidden_dim]\n",
        "        attention = torch.bmm(v, energy).squeeze(1)  # [batch_size, seq_len]\n",
        "        return torch.softmax(attention, dim=1)\n"
      ],
      "metadata": {
        "id": "hV7ZIMaL6PDz"
      },
      "execution_count": 9,
      "outputs": []
    },
    {
      "cell_type": "markdown",
      "metadata": {
        "id": "EJ2_o9FGYg8D"
      },
      "source": [
        "##### **Decoder**"
      ]
    },
    {
      "cell_type": "code",
      "source": [
        "class DecoderWithAttention(nn.Module):\n",
        "    def __init__(self, input_dim, encoder_hidden_dim, decoder_hidden_dim, output_dim, num_layers):\n",
        "        super().__init__()\n",
        "        self.hidden_dim = decoder_hidden_dim\n",
        "        self.attention = LuongAttention(encoder_hidden_dim, decoder_hidden_dim)\n",
        "        self.rnn = nn.LSTM(input_dim + encoder_hidden_dim, decoder_hidden_dim, num_layers, batch_first=True)\n",
        "        self.fc_out = nn.Linear(decoder_hidden_dim + encoder_hidden_dim, output_dim)\n",
        "\n",
        "    def forward(self, x, hidden, cell, encoder_outputs):\n",
        "        # x: [batch_size, 1, input_dim]\n",
        "        # encoder_outputs: [batch_size, seq_len, encoder_hidden_dim]\n",
        "        attention_weights = self.attention(hidden[-1], encoder_outputs)  # [batch_size, seq_len]\n",
        "        attention_weights = attention_weights.unsqueeze(1)  # [batch_size, 1, seq_len]\n",
        "        context = torch.bmm(attention_weights, encoder_outputs)  # [batch_size, 1, encoder_hidden_dim]\n",
        "        rnn_input = torch.cat((x, context), dim=2)  # [batch_size, 1, input_dim + encoder_hidden_dim]\n",
        "        output, (hidden, cell) = self.rnn(rnn_input, (hidden, cell))\n",
        "        output = self.fc_out(torch.cat((output, context), dim=2))  # [batch_size, 1, output_dim]\n",
        "        return output, (hidden, cell)\n"
      ],
      "metadata": {
        "id": "hv9TheAp6sEo"
      },
      "execution_count": 10,
      "outputs": []
    },
    {
      "cell_type": "markdown",
      "source": [
        "**Seq2Seq**"
      ],
      "metadata": {
        "id": "Vfop7PO-6zeb"
      }
    },
    {
      "cell_type": "code",
      "source": [
        "class Seq2SeqWithAttention(nn.Module):\n",
        "    def __init__(self, encoder, decoder, vocab_vectors):\n",
        "        super().__init__()\n",
        "        self.encoder = encoder\n",
        "        self.decoder = decoder\n",
        "        self.vocab_vectors = vocab_vectors  # Embeddings del vocabulario de destino\n",
        "\n",
        "    def forward(self, source, target, teacher_forcing_ratio=0.5):\n",
        "        batch_size = target.size(0)\n",
        "        target_len = target.size(1)\n",
        "        output_dim = self.decoder.fc_out.out_features\n",
        "\n",
        "        outputs = torch.zeros(batch_size, target_len, output_dim).to(source.device)\n",
        "        encoder_outputs, (hidden, cell) = self.encoder(source)\n",
        "        x = target[:, 0, :]\n",
        "\n",
        "        for t in range(1, target_len):\n",
        "            output, (hidden, cell) = self.decoder(x.unsqueeze(1), hidden, cell, encoder_outputs)\n",
        "            outputs[:, t, :] = output.squeeze(1)\n",
        "\n",
        "            teacher_force = random.random() < teacher_forcing_ratio\n",
        "            if teacher_force:\n",
        "                x = target[:, t, :]  # Usa el token real\n",
        "            else:\n",
        "                # Obtener el índice del token más probable\n",
        "                predicted_token_idx = output.argmax(2).squeeze(1)  # [batch_size]\n",
        "\n",
        "                # Mapear índices predichos a embeddings\n",
        "                x = self.vocab_vectors[predicted_token_idx]  # [batch_size, input_dim]\n",
        "\n",
        "        return outputs\n"
      ],
      "metadata": {
        "id": "gx4SEul461_J"
      },
      "execution_count": 11,
      "outputs": []
    },
    {
      "cell_type": "code",
      "execution_count": 24,
      "metadata": {
        "id": "3wo9BztpYg8E"
      },
      "outputs": [],
      "source": [
        "input_dim = 300  # Dimensión de las embeddings de entrada\n",
        "encoder_hidden_dim = 512  # Dimensión oculta del encoder\n",
        "decoder_hidden_dim = 512  # Dimensión oculta del decoder\n",
        "output_dim = translation.vocab_es.vectors.shape[0]  # Tamaño del vocabulario de salida\n",
        "num_layers = 2  # Número de capas en LSTM\n",
        "learning_rate = 0.001\n",
        "num_epochs = 15\n",
        "batch_size = 8\n",
        "num_workers = 0\n",
        "shuffle = True\n",
        "\n",
        "# Inicializa el modelo\n",
        "encoder = Encoder(input_dim, encoder_hidden_dim, num_layers, decoder_hidden_dim=decoder_hidden_dim)\n",
        "decoder = DecoderWithAttention(input_dim, encoder_hidden_dim, decoder_hidden_dim, output_dim, num_layers)\n",
        "model = Seq2SeqWithAttention(encoder, decoder, vocab_vectors=translation.vocab_es.vectors)\n",
        "\n",
        "optimizer = optim.Adam(model.parameters(), lr=learning_rate)\n",
        "criterion = nn.CrossEntropyLoss()\n",
        "\n",
        "# DataLoader\n",
        "from torch.utils.data import DataLoader\n",
        "\n",
        "dataloader = DataLoader(\n",
        "    translation,\n",
        "    batch_size=batch_size,\n",
        "    shuffle=shuffle,\n",
        "    num_workers=num_workers,\n",
        "    collate_fn=collate_fn\n",
        ")\n"
      ]
    },
    {
      "cell_type": "code",
      "execution_count": null,
      "metadata": {
        "colab": {
          "base_uri": "https://localhost:8080/"
        },
        "id": "Y4O6cFtAYg8E",
        "outputId": "623f50e0-3cb0-4223-ed6d-b480a2cb25d1"
      },
      "outputs": [
        {
          "output_type": "stream",
          "name": "stdout",
          "text": [
            "Epoch [1/15], Step [1/2], Loss: 41.3869\n",
            "Epoch [1/15], Average Loss: 40.9820\n",
            "Epoch [2/15], Step [1/2], Loss: 38.3881\n",
            "Epoch [2/15], Average Loss: 31.4769\n",
            "Epoch [3/15], Step [1/2], Loss: 29.6161\n",
            "Epoch [3/15], Average Loss: 26.9239\n",
            "Epoch [4/15], Step [1/2], Loss: 16.8470\n",
            "Epoch [4/15], Average Loss: 14.9899\n",
            "Epoch [5/15], Step [1/2], Loss: 11.9019\n",
            "Epoch [5/15], Average Loss: 9.5274\n",
            "Epoch [6/15], Step [1/2], Loss: 10.4367\n",
            "Epoch [6/15], Average Loss: 7.8637\n",
            "Epoch [7/15], Step [1/2], Loss: 7.1145\n",
            "Epoch [7/15], Average Loss: 6.9653\n",
            "Epoch [8/15], Step [1/2], Loss: 6.0092\n",
            "Epoch [8/15], Average Loss: 5.6090\n",
            "Epoch [9/15], Step [1/2], Loss: 5.8487\n"
          ]
        }
      ],
      "source": [
        "# Bucle de entrenamiento\n",
        "for epoch in range(num_epochs):\n",
        "    model.train()\n",
        "    total_loss = 0\n",
        "    for batch_idx, (src, tgt, src_indices, tgt_indices) in enumerate(dataloader):\n",
        "        optimizer.zero_grad()\n",
        "        output = model(src, tgt)\n",
        "\n",
        "        tgt_indices = torch.tensor(tgt_indices, dtype=torch.long)\n",
        "        loss = 0\n",
        "        for t in range(1, tgt.shape[1]):\n",
        "            loss += criterion(output[:, t, :], tgt_indices[:, t])\n",
        "        # loss = criterion(output, torch.tensor(tgt_indices, dtype=torch.long))\n",
        "\n",
        "        loss.backward()\n",
        "        optimizer.step()\n",
        "        total_loss += loss.item()\n",
        "\n",
        "        if batch_idx % 5 == 0:\n",
        "            print(f'Epoch [{epoch+1}/{num_epochs}], Step [{batch_idx+1}/{len(dataloader)}], Loss: {loss.item():.4f}')\n",
        "\n",
        "    print(f'Epoch [{epoch+1}/{num_epochs}], Average Loss: {total_loss / len(dataloader):.4f}')\n"
      ]
    },
    {
      "cell_type": "code",
      "execution_count": 23,
      "metadata": {
        "colab": {
          "base_uri": "https://localhost:8080/"
        },
        "id": "pqPhxK0bYg8E",
        "outputId": "84d4ae9e-d455-4063-9bf1-8e3850e426e6"
      },
      "outputs": [
        {
          "output_type": "stream",
          "name": "stdout",
          "text": [
            "<eos>\n"
          ]
        }
      ],
      "source": [
        "# Test the model with input sentences\n",
        "model.eval()\n",
        "\n",
        "sentence = \"cat\"\n",
        "\n",
        "# Convertir a vectores\n",
        "tokens = translation.tokenizer_en(sentence)\n",
        "tokens = tokens + ['<eos>']\n",
        "text_tensor = translation.vocab_en.get_vecs_by_tokens(tokens)\n",
        "text_tensor = text_tensor.unsqueeze(0)\n",
        "\n",
        "with torch.no_grad():\n",
        "    encoder_outputs, (hidden, cell) = model.encoder(text_tensor)\n",
        "\n",
        "outputs = []\n",
        "\n",
        "input_token = torch.tensor(translation.vocab_es.stoi['<sos>']).unsqueeze(0)\n",
        "input_token = translation.vocab_es.vectors[input_token].unsqueeze(0)\n",
        "\n",
        "\n",
        "for _ in range(5):\n",
        "    with torch.no_grad():\n",
        "        output, (hidden, cell) = model.decoder(input_token, hidden, cell, encoder_outputs) # teacher_forcing_ratio=0.0\n",
        "\n",
        "    # Obtener el token con la probabilidad más alta\n",
        "    best_guess = output.argmax(2).squeeze(0)\n",
        "    outputs.append(best_guess.item())\n",
        "\n",
        "    # Si el token es <eos>, terminar la traducción\n",
        "    if best_guess == translation.vocab_es.stoi['<eos>']:\n",
        "        break\n",
        "\n",
        "    # Utilizar la palabra predicha como la siguiente entrada al decoder\n",
        "    input_token = translation.vocab_es.vectors[best_guess].unsqueeze(0)\n",
        "\n",
        "# Convertir los índices de salida a palabras\n",
        "translated_sentence = [translation.vocab_es.itos[idx] for idx in outputs]\n",
        "\n",
        "result = ' '.join(translated_sentence)\n",
        "\n",
        "print(result)"
      ]
    },
    {
      "cell_type": "code",
      "source": [
        "# Test the model with input sentences\n",
        "model.eval()\n",
        "\n",
        "sentence = \"house\"\n",
        "\n",
        "# Convertir a vectores\n",
        "tokens = translation.tokenizer_en(sentence)\n",
        "tokens = tokens + ['<eos>']\n",
        "text_tensor = translation.vocab_en.get_vecs_by_tokens(tokens)\n",
        "text_tensor = text_tensor.unsqueeze(0)  # [1, seq_len, input_dim]\n",
        "\n",
        "with torch.no_grad():\n",
        "    encoder_outputs, (hidden, cell) = model.encoder(text_tensor)\n",
        "\n",
        "outputs = []\n",
        "\n",
        "# Inicializar el token de inicio (<sos>)\n",
        "input_token_idx = torch.tensor([translation.vocab_es.stoi['<sos>']]).to(text_tensor.device)  # [1]\n",
        "input_token = translation.vocab_es.vectors[input_token_idx].unsqueeze(0)  # [1, 1, input_dim]\n",
        "\n",
        "for _ in range(5):  # Limitar la longitud de la traducción a 5 tokens\n",
        "    with torch.no_grad():\n",
        "        # Pasar el token actual al decoder\n",
        "        output, (hidden, cell) = model.decoder(input_token, hidden, cell, encoder_outputs)  # <--- Se añade encoder_outputs\n",
        "\n",
        "    # Obtener el token con la probabilidad más alta\n",
        "    best_guess = output.argmax(2).squeeze(0)  # [batch_size]\n",
        "    outputs.append(best_guess.item())\n",
        "\n",
        "    # Si el token es <eos>, terminar la traducción\n",
        "    if best_guess.item() == translation.vocab_es.stoi['<eos>']:\n",
        "        break\n",
        "\n",
        "    # Utilizar la palabra predicha como la siguiente entrada al decoder\n",
        "    input_token = translation.vocab_es.vectors[best_guess].unsqueeze(0)  # [1, 1, input_dim]\n",
        "\n",
        "# Convertir los índices de salida a palabras\n",
        "translated_sentence = [translation.vocab_es.itos[idx] for idx in outputs]\n",
        "\n",
        "result = ' '.join(translated_sentence)\n",
        "\n",
        "print(result)\n"
      ],
      "metadata": {
        "colab": {
          "base_uri": "https://localhost:8080/"
        },
        "id": "MeRfkC6DTJyP",
        "outputId": "34cf3c0e-5c3c-415d-bfce-1234a2145ba5"
      },
      "execution_count": null,
      "outputs": [
        {
          "output_type": "stream",
          "name": "stdout",
          "text": [
            "perro <eos>\n"
          ]
        }
      ]
    },
    {
      "cell_type": "code",
      "execution_count": null,
      "metadata": {
        "id": "IHzzzAsZYg8F"
      },
      "outputs": [],
      "source": [
        "# Guardar el modelo\n",
        "#torch.save(model.state_dict(), 'seq2seq.pth')"
      ]
    },
    {
      "cell_type": "code",
      "execution_count": null,
      "metadata": {
        "colab": {
          "base_uri": "https://localhost:8080/"
        },
        "id": "XgitE1DhYg8F",
        "outputId": "6a25e7e7-381f-4ad1-ab75-57741c69764f"
      },
      "outputs": [
        {
          "output_type": "execute_result",
          "data": {
            "text/plain": [
              "<All keys matched successfully>"
            ]
          },
          "metadata": {},
          "execution_count": 16
        }
      ],
      "source": [
        "# Load model from file\n",
        "#model.load_state_dict(torch.load('seq2seq.pth'))"
      ]
    }
  ],
  "metadata": {
    "kernelspec": {
      "display_name": "Python 3",
      "name": "python3"
    },
    "language_info": {
      "codemirror_mode": {
        "name": "ipython",
        "version": 3
      },
      "file_extension": ".py",
      "mimetype": "text/x-python",
      "name": "python",
      "nbconvert_exporter": "python",
      "pygments_lexer": "ipython3",
      "version": "3.10.9"
    },
    "colab": {
      "provenance": [],
      "gpuType": "V28"
    },
    "accelerator": "TPU"
  },
  "nbformat": 4,
  "nbformat_minor": 0
}